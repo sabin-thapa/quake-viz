{
 "cells": [
  {
   "cell_type": "code",
   "execution_count": 6,
   "id": "d0db8e06",
   "metadata": {},
   "outputs": [],
   "source": [
    "import pandas as pd\n",
    "import datetime"
   ]
  },
  {
   "cell_type": "markdown",
   "id": "ab21c6d9",
   "metadata": {},
   "source": [
    "## Data Exploration"
   ]
  },
  {
   "cell_type": "code",
   "execution_count": 32,
   "id": "a6afc861",
   "metadata": {},
   "outputs": [],
   "source": [
    "def csv_to_df(file):\n",
    "    return pd.read_csv(\n",
    "        file,\n",
    "        parse_dates=[\"time\"]\n",
    "    )"
   ]
  },
  {
   "cell_type": "code",
   "execution_count": 3,
   "id": "29adbcf8",
   "metadata": {},
   "outputs": [],
   "source": [
    "jan = csv_to_df(\"datasets/january.csv\")\n",
    "feb = csv_to_df(\"datasets/february.csv\")\n",
    "mar = csv_to_df(\"datasets/march.csv\")"
   ]
  },
  {
   "cell_type": "code",
   "execution_count": 4,
   "id": "54f16c3f",
   "metadata": {},
   "outputs": [
    {
     "data": {
      "text/plain": [
       "35919"
      ]
     },
     "execution_count": 4,
     "metadata": {},
     "output_type": "execute_result"
    }
   ],
   "source": [
    "sum(size for (size, _) in (jan.shape, feb.shape, mar.shape))"
   ]
  },
  {
   "cell_type": "code",
   "execution_count": 6,
   "id": "f50dc802",
   "metadata": {},
   "outputs": [
    {
     "data": {
      "text/plain": [
       "(35919, 22)"
      ]
     },
     "execution_count": 6,
     "metadata": {},
     "output_type": "execute_result"
    }
   ],
   "source": [
    "earthquakes.shape"
   ]
  },
  {
   "cell_type": "code",
   "execution_count": 15,
   "id": "6e899178",
   "metadata": {},
   "outputs": [
    {
     "name": "stdout",
     "output_type": "stream",
     "text": [
      "<class 'pandas.core.frame.DataFrame'>\n",
      "Int64Index: 35919 entries, 0 to 12312\n",
      "Data columns (total 22 columns):\n",
      " #   Column           Non-Null Count  Dtype              \n",
      "---  ------           --------------  -----              \n",
      " 0   time             35919 non-null  datetime64[ns, UTC]\n",
      " 1   latitude         35919 non-null  float64            \n",
      " 2   longitude        35919 non-null  float64            \n",
      " 3   depth            35919 non-null  float64            \n",
      " 4   mag              35916 non-null  float64            \n",
      " 5   magType          35916 non-null  object             \n",
      " 6   nst              21283 non-null  float64            \n",
      " 7   gap              26711 non-null  float64            \n",
      " 8   dmin             22113 non-null  float64            \n",
      " 9   rms              35919 non-null  float64            \n",
      " 10  net              35919 non-null  object             \n",
      " 11  id               35919 non-null  object             \n",
      " 12  updated          35919 non-null  object             \n",
      " 13  place            35784 non-null  object             \n",
      " 14  type             35919 non-null  object             \n",
      " 15  horizontalError  23893 non-null  float64            \n",
      " 16  depthError       35919 non-null  float64            \n",
      " 17  magError         25175 non-null  float64            \n",
      " 18  magNst           26684 non-null  float64            \n",
      " 19  status           35919 non-null  object             \n",
      " 20  locationSource   35919 non-null  object             \n",
      " 21  magSource        35919 non-null  object             \n",
      "dtypes: datetime64[ns, UTC](1), float64(12), object(9)\n",
      "memory usage: 6.3+ MB\n"
     ]
    }
   ],
   "source": [
    "earthquakes.info()"
   ]
  },
  {
   "cell_type": "code",
   "execution_count": 35,
   "id": "dede6092",
   "metadata": {},
   "outputs": [
    {
     "data": {
      "text/html": [
       "<div>\n",
       "<style scoped>\n",
       "    .dataframe tbody tr th:only-of-type {\n",
       "        vertical-align: middle;\n",
       "    }\n",
       "\n",
       "    .dataframe tbody tr th {\n",
       "        vertical-align: top;\n",
       "    }\n",
       "\n",
       "    .dataframe thead th {\n",
       "        text-align: right;\n",
       "    }\n",
       "</style>\n",
       "<table border=\"1\" class=\"dataframe\">\n",
       "  <thead>\n",
       "    <tr style=\"text-align: right;\">\n",
       "      <th></th>\n",
       "      <th>time</th>\n",
       "      <th>latitude</th>\n",
       "      <th>longitude</th>\n",
       "      <th>depth</th>\n",
       "      <th>mag</th>\n",
       "      <th>magType</th>\n",
       "      <th>net</th>\n",
       "      <th>id</th>\n",
       "      <th>place</th>\n",
       "      <th>type</th>\n",
       "      <th>status</th>\n",
       "      <th>locationSource</th>\n",
       "      <th>magSource</th>\n",
       "    </tr>\n",
       "  </thead>\n",
       "  <tbody>\n",
       "    <tr>\n",
       "      <th>0</th>\n",
       "      <td>2022-01-30 23:58:39.500000+00:00</td>\n",
       "      <td>34.879167</td>\n",
       "      <td>-97.8520</td>\n",
       "      <td>14.67</td>\n",
       "      <td>0.99</td>\n",
       "      <td>ml</td>\n",
       "      <td>ok</td>\n",
       "      <td>ok2022ccvb</td>\n",
       "      <td>7 km WSW of Alex, Oklahoma</td>\n",
       "      <td>earthquake</td>\n",
       "      <td>reviewed</td>\n",
       "      <td>ok</td>\n",
       "      <td>ok</td>\n",
       "    </tr>\n",
       "    <tr>\n",
       "      <th>1</th>\n",
       "      <td>2022-01-30 23:56:19.237000+00:00</td>\n",
       "      <td>62.910000</td>\n",
       "      <td>-151.1774</td>\n",
       "      <td>107.60</td>\n",
       "      <td>1.40</td>\n",
       "      <td>ml</td>\n",
       "      <td>ak</td>\n",
       "      <td>ak0221e05fgq</td>\n",
       "      <td>Central Alaska</td>\n",
       "      <td>earthquake</td>\n",
       "      <td>reviewed</td>\n",
       "      <td>ak</td>\n",
       "      <td>ak</td>\n",
       "    </tr>\n",
       "    <tr>\n",
       "      <th>2</th>\n",
       "      <td>2022-01-30 23:54:44.477000+00:00</td>\n",
       "      <td>63.304800</td>\n",
       "      <td>-151.2721</td>\n",
       "      <td>8.80</td>\n",
       "      <td>1.10</td>\n",
       "      <td>ml</td>\n",
       "      <td>ak</td>\n",
       "      <td>ak0221e051u3</td>\n",
       "      <td>34 km SE of Denali National Park, Alaska</td>\n",
       "      <td>earthquake</td>\n",
       "      <td>reviewed</td>\n",
       "      <td>ak</td>\n",
       "      <td>ak</td>\n",
       "    </tr>\n",
       "    <tr>\n",
       "      <th>3</th>\n",
       "      <td>2022-01-30 23:54:32.973000+00:00</td>\n",
       "      <td>51.557800</td>\n",
       "      <td>-176.6738</td>\n",
       "      <td>39.60</td>\n",
       "      <td>1.80</td>\n",
       "      <td>ml</td>\n",
       "      <td>ak</td>\n",
       "      <td>ak0221e050xt</td>\n",
       "      <td>35 km S of Adak, Alaska</td>\n",
       "      <td>earthquake</td>\n",
       "      <td>reviewed</td>\n",
       "      <td>ak</td>\n",
       "      <td>ak</td>\n",
       "    </tr>\n",
       "    <tr>\n",
       "      <th>4</th>\n",
       "      <td>2022-01-30 23:51:44.207000+00:00</td>\n",
       "      <td>63.291700</td>\n",
       "      <td>-151.3217</td>\n",
       "      <td>9.90</td>\n",
       "      <td>1.10</td>\n",
       "      <td>ml</td>\n",
       "      <td>ak</td>\n",
       "      <td>ak0221e04enn</td>\n",
       "      <td>34 km SE of Denali National Park, Alaska</td>\n",
       "      <td>earthquake</td>\n",
       "      <td>reviewed</td>\n",
       "      <td>ak</td>\n",
       "      <td>ak</td>\n",
       "    </tr>\n",
       "  </tbody>\n",
       "</table>\n",
       "</div>"
      ],
      "text/plain": [
       "                              time   latitude  longitude   depth   mag  \\\n",
       "0 2022-01-30 23:58:39.500000+00:00  34.879167   -97.8520   14.67  0.99   \n",
       "1 2022-01-30 23:56:19.237000+00:00  62.910000  -151.1774  107.60  1.40   \n",
       "2 2022-01-30 23:54:44.477000+00:00  63.304800  -151.2721    8.80  1.10   \n",
       "3 2022-01-30 23:54:32.973000+00:00  51.557800  -176.6738   39.60  1.80   \n",
       "4 2022-01-30 23:51:44.207000+00:00  63.291700  -151.3217    9.90  1.10   \n",
       "\n",
       "  magType net            id                                     place  \\\n",
       "0      ml  ok    ok2022ccvb                7 km WSW of Alex, Oklahoma   \n",
       "1      ml  ak  ak0221e05fgq                            Central Alaska   \n",
       "2      ml  ak  ak0221e051u3  34 km SE of Denali National Park, Alaska   \n",
       "3      ml  ak  ak0221e050xt                   35 km S of Adak, Alaska   \n",
       "4      ml  ak  ak0221e04enn  34 km SE of Denali National Park, Alaska   \n",
       "\n",
       "         type    status locationSource magSource  \n",
       "0  earthquake  reviewed             ok        ok  \n",
       "1  earthquake  reviewed             ak        ak  \n",
       "2  earthquake  reviewed             ak        ak  \n",
       "3  earthquake  reviewed             ak        ak  \n",
       "4  earthquake  reviewed             ak        ak  "
      ]
     },
     "execution_count": 35,
     "metadata": {},
     "output_type": "execute_result"
    }
   ],
   "source": [
    "# Dropping unnecessary columns\n",
    "earthquakes.drop(\n",
    "    [\"nst\", \"gap\", \"dmin\", \"rms\", \"updated\", \"horizontalError\", \"depthError\", \"magError\", \"magNst\"],\n",
    "    axis=1\n",
    ").head()"
   ]
  },
  {
   "cell_type": "code",
   "execution_count": 28,
   "id": "149c52ef",
   "metadata": {},
   "outputs": [
    {
     "data": {
      "text/plain": [
       "array(['ok', 'ak', 'nc', 'us', 'av', 'hv', 'pr', 'ci', 'uw', 'nm', 'nn',\n",
       "       'uu', 'tx', 'mb', 'se'], dtype=object)"
      ]
     },
     "execution_count": 28,
     "metadata": {},
     "output_type": "execute_result"
    }
   ],
   "source": [
    "earthquakes[\"net\"].unique()"
   ]
  },
  {
   "cell_type": "code",
   "execution_count": 31,
   "id": "3526d057",
   "metadata": {},
   "outputs": [
    {
     "data": {
      "text/plain": [
       "array(['ok', 'ak', 'nc', 'us', 'av', 'hv', 'pr', 'ci', 'uw', 'nm', 'nn',\n",
       "       'uu', 'tx', 'mb', 'se'], dtype=object)"
      ]
     },
     "execution_count": 31,
     "metadata": {},
     "output_type": "execute_result"
    }
   ],
   "source": [
    "earthquakes[\"locationSource\"].unique()"
   ]
  },
  {
   "cell_type": "code",
   "execution_count": 25,
   "id": "286513ee",
   "metadata": {},
   "outputs": [
    {
     "data": {
      "text/plain": [
       "26.288167243528935"
      ]
     },
     "execution_count": 25,
     "metadata": {},
     "output_type": "execute_result"
    }
   ],
   "source": [
    "earthquakes[\"depth\"].mean()"
   ]
  },
  {
   "cell_type": "code",
   "execution_count": 23,
   "id": "18660e85",
   "metadata": {},
   "outputs": [
    {
     "data": {
      "text/plain": [
       "array(['reviewed', 'automatic'], dtype=object)"
      ]
     },
     "execution_count": 23,
     "metadata": {},
     "output_type": "execute_result"
    }
   ],
   "source": [
    "earthquakes[\"status\"].unique()"
   ]
  },
  {
   "cell_type": "code",
   "execution_count": 24,
   "id": "a95605d4",
   "metadata": {},
   "outputs": [
    {
     "data": {
      "text/plain": [
       "array(['earthquake', 'ice quake', 'explosion', 'mining explosion',\n",
       "       'quarry blast', 'volcanic eruption', 'other event'], dtype=object)"
      ]
     },
     "execution_count": 24,
     "metadata": {},
     "output_type": "execute_result"
    }
   ],
   "source": [
    "earthquakes[\"type\"].unique()"
   ]
  },
  {
   "cell_type": "markdown",
   "id": "2a33e78e",
   "metadata": {},
   "source": [
    "# Data Loading"
   ]
  },
  {
   "cell_type": "code",
   "execution_count": 7,
   "id": "4b38a327",
   "metadata": {},
   "outputs": [],
   "source": [
    "# Loading only columns necessary for visualization.\n",
    "def csv_to_df(file):\n",
    "    return pd.read_csv(\n",
    "        file,\n",
    "        parse_dates=[\"time\"],\n",
    "        usecols=[\n",
    "            \"id\",\n",
    "            \"time\",\n",
    "            \"latitude\",\n",
    "            \"longitude\",\n",
    "            \"mag\",\n",
    "            \"magType\",\n",
    "            \"place\",\n",
    "            \"type\",\n",
    "            \"status\",\n",
    "            \"locationSource\"\n",
    "        ],\n",
    "        index_col=\"id\"\n",
    "    )"
   ]
  },
  {
   "cell_type": "code",
   "execution_count": 8,
   "id": "82687859",
   "metadata": {},
   "outputs": [],
   "source": [
    "jan = csv_to_df(\"datasets/january.csv\")\n",
    "feb = csv_to_df(\"datasets/february.csv\")\n",
    "mar = csv_to_df(\"datasets/march.csv\")"
   ]
  },
  {
   "cell_type": "code",
   "execution_count": 9,
   "id": "e336c5af",
   "metadata": {},
   "outputs": [
    {
     "data": {
      "text/plain": [
       "35919"
      ]
     },
     "execution_count": 9,
     "metadata": {},
     "output_type": "execute_result"
    }
   ],
   "source": [
    "sum(size for (size, _) in (jan.shape, feb.shape, mar.shape))"
   ]
  },
  {
   "cell_type": "code",
   "execution_count": 10,
   "id": "5b1896db",
   "metadata": {},
   "outputs": [],
   "source": [
    "earthquakes = pd.concat([jan, feb, mar])"
   ]
  },
  {
   "cell_type": "code",
   "execution_count": 11,
   "id": "53fee270",
   "metadata": {},
   "outputs": [
    {
     "data": {
      "text/plain": [
       "(35919, 9)"
      ]
     },
     "execution_count": 11,
     "metadata": {},
     "output_type": "execute_result"
    }
   ],
   "source": [
    "earthquakes.shape"
   ]
  },
  {
   "cell_type": "code",
   "execution_count": 12,
   "id": "9b4ab236",
   "metadata": {},
   "outputs": [
    {
     "name": "stdout",
     "output_type": "stream",
     "text": [
      "<class 'pandas.core.frame.DataFrame'>\n",
      "Index: 35919 entries, ok2022ccvb to uw61819426\n",
      "Data columns (total 9 columns):\n",
      " #   Column          Non-Null Count  Dtype              \n",
      "---  ------          --------------  -----              \n",
      " 0   time            35919 non-null  datetime64[ns, UTC]\n",
      " 1   latitude        35919 non-null  float64            \n",
      " 2   longitude       35919 non-null  float64            \n",
      " 3   mag             35916 non-null  float64            \n",
      " 4   magType         35916 non-null  object             \n",
      " 5   place           35784 non-null  object             \n",
      " 6   type            35919 non-null  object             \n",
      " 7   status          35919 non-null  object             \n",
      " 8   locationSource  35919 non-null  object             \n",
      "dtypes: datetime64[ns, UTC](1), float64(3), object(5)\n",
      "memory usage: 2.7+ MB\n"
     ]
    }
   ],
   "source": [
    "earthquakes.info()"
   ]
  },
  {
   "cell_type": "markdown",
   "id": "c6477f3e",
   "metadata": {},
   "source": [
    "# Data Wrangling"
   ]
  },
  {
   "cell_type": "code",
   "execution_count": 13,
   "id": "78ab1057",
   "metadata": {},
   "outputs": [
    {
     "data": {
      "text/plain": [
       "time              35914\n",
       "latitude          28270\n",
       "longitude         29491\n",
       "mag                 635\n",
       "magType              10\n",
       "place             16335\n",
       "type                  7\n",
       "status                2\n",
       "locationSource       15\n",
       "dtype: int64"
      ]
     },
     "execution_count": 13,
     "metadata": {},
     "output_type": "execute_result"
    }
   ],
   "source": [
    "earthquakes.nunique()"
   ]
  },
  {
   "cell_type": "code",
   "execution_count": 14,
   "id": "373cc38c",
   "metadata": {},
   "outputs": [
    {
     "data": {
      "text/plain": [
       "array(['ok', 'ak', 'nc', 'us', 'av', 'hv', 'pr', 'ci', 'uw', 'nm', 'nn',\n",
       "       'uu', 'tx', 'mb', 'se'], dtype=object)"
      ]
     },
     "execution_count": 14,
     "metadata": {},
     "output_type": "execute_result"
    }
   ],
   "source": [
    "earthquakes[\"locationSource\"].unique()"
   ]
  },
  {
   "cell_type": "code",
   "execution_count": 15,
   "id": "daf669e3",
   "metadata": {},
   "outputs": [
    {
     "data": {
      "text/plain": [
       "array(['reviewed', 'automatic'], dtype=object)"
      ]
     },
     "execution_count": 15,
     "metadata": {},
     "output_type": "execute_result"
    }
   ],
   "source": [
    "earthquakes[\"status\"].unique()"
   ]
  },
  {
   "cell_type": "code",
   "execution_count": 16,
   "id": "d25f21f0",
   "metadata": {},
   "outputs": [
    {
     "data": {
      "text/plain": [
       "array(['earthquake', 'ice quake', 'explosion', 'mining explosion',\n",
       "       'quarry blast', 'volcanic eruption', 'other event'], dtype=object)"
      ]
     },
     "execution_count": 16,
     "metadata": {},
     "output_type": "execute_result"
    }
   ],
   "source": [
    "earthquakes[\"type\"].unique()"
   ]
  },
  {
   "cell_type": "code",
   "execution_count": 17,
   "id": "789667b6",
   "metadata": {},
   "outputs": [
    {
     "data": {
      "text/plain": [
       "array(['ml', 'md', 'mb', 'mw', 'mww', 'mb_lg', 'mwr', 'mh', nan, 'ms_20',\n",
       "       'mwb'], dtype=object)"
      ]
     },
     "execution_count": 17,
     "metadata": {},
     "output_type": "execute_result"
    }
   ],
   "source": [
    "earthquakes[\"magType\"].unique()"
   ]
  },
  {
   "cell_type": "markdown",
   "id": "6c6bf431",
   "metadata": {},
   "source": [
    "## Converting values to appropriate data types"
   ]
  },
  {
   "cell_type": "code",
   "execution_count": 18,
   "id": "97781f0b",
   "metadata": {},
   "outputs": [],
   "source": [
    "earthquakes[\"status\"] = earthquakes[\"status\"].astype(\"category\")\n",
    "earthquakes[\"locationSource\"] = earthquakes[\"locationSource\"].astype(\"category\")\n",
    "earthquakes[\"type\"] = earthquakes[\"type\"].astype(\"category\")\n",
    "earthquakes[\"magType\"] = earthquakes[\"magType\"].astype(\"category\")"
   ]
  },
  {
   "cell_type": "markdown",
   "id": "44c1d175",
   "metadata": {},
   "source": [
    "## Checking for missing values"
   ]
  },
  {
   "cell_type": "code",
   "execution_count": 19,
   "id": "1d6b0da9",
   "metadata": {},
   "outputs": [
    {
     "data": {
      "text/plain": [
       "(35919, 9)"
      ]
     },
     "execution_count": 19,
     "metadata": {},
     "output_type": "execute_result"
    }
   ],
   "source": [
    "earthquakes.shape"
   ]
  },
  {
   "cell_type": "code",
   "execution_count": 20,
   "id": "d809df8a",
   "metadata": {},
   "outputs": [
    {
     "name": "stdout",
     "output_type": "stream",
     "text": [
      "<class 'pandas.core.frame.DataFrame'>\n",
      "Index: 35919 entries, ok2022ccvb to uw61819426\n",
      "Data columns (total 9 columns):\n",
      " #   Column          Non-Null Count  Dtype              \n",
      "---  ------          --------------  -----              \n",
      " 0   time            35919 non-null  datetime64[ns, UTC]\n",
      " 1   latitude        35919 non-null  float64            \n",
      " 2   longitude       35919 non-null  float64            \n",
      " 3   mag             35916 non-null  float64            \n",
      " 4   magType         35916 non-null  category           \n",
      " 5   place           35784 non-null  object             \n",
      " 6   type            35919 non-null  category           \n",
      " 7   status          35919 non-null  category           \n",
      " 8   locationSource  35919 non-null  category           \n",
      "dtypes: category(4), datetime64[ns, UTC](1), float64(3), object(1)\n",
      "memory usage: 1.8+ MB\n"
     ]
    }
   ],
   "source": [
    "earthquakes.info()"
   ]
  },
  {
   "cell_type": "code",
   "execution_count": 150,
   "id": "44ee23fb",
   "metadata": {},
   "outputs": [
    {
     "data": {
      "text/plain": [
       "time              2022-01-30 11:14:16.340000+00:00\n",
       "latitude                                   61.3634\n",
       "longitude                                 -149.574\n",
       "mag                                            1.2\n",
       "magType                                         ml\n",
       "place                                          NaN\n",
       "type                                    earthquake\n",
       "status                                    reviewed\n",
       "locationSource                                  ak\n",
       "Name: ak0221dsr7ph, dtype: object"
      ]
     },
     "execution_count": 150,
     "metadata": {},
     "output_type": "execute_result"
    }
   ],
   "source": [
    "earthquakes[earthquakes[\"place\"].isnull()].iloc[0]"
   ]
  },
  {
   "cell_type": "code",
   "execution_count": 102,
   "id": "5031dd35",
   "metadata": {},
   "outputs": [
    {
     "data": {
      "text/html": [
       "<div>\n",
       "<style scoped>\n",
       "    .dataframe tbody tr th:only-of-type {\n",
       "        vertical-align: middle;\n",
       "    }\n",
       "\n",
       "    .dataframe tbody tr th {\n",
       "        vertical-align: top;\n",
       "    }\n",
       "\n",
       "    .dataframe thead th {\n",
       "        text-align: right;\n",
       "    }\n",
       "</style>\n",
       "<table border=\"1\" class=\"dataframe\">\n",
       "  <thead>\n",
       "    <tr style=\"text-align: right;\">\n",
       "      <th></th>\n",
       "      <th>time</th>\n",
       "      <th>latitude</th>\n",
       "      <th>longitude</th>\n",
       "      <th>mag</th>\n",
       "      <th>magType</th>\n",
       "      <th>place</th>\n",
       "      <th>type</th>\n",
       "      <th>status</th>\n",
       "      <th>locationSource</th>\n",
       "    </tr>\n",
       "    <tr>\n",
       "      <th>id</th>\n",
       "      <th></th>\n",
       "      <th></th>\n",
       "      <th></th>\n",
       "      <th></th>\n",
       "      <th></th>\n",
       "      <th></th>\n",
       "      <th></th>\n",
       "      <th></th>\n",
       "      <th></th>\n",
       "    </tr>\n",
       "  </thead>\n",
       "  <tbody>\n",
       "    <tr>\n",
       "      <th>nc71127084</th>\n",
       "      <td>2022-01-18 14:50:55.480000+00:00</td>\n",
       "      <td>35.975333</td>\n",
       "      <td>-120.371000</td>\n",
       "      <td>NaN</td>\n",
       "      <td>NaN</td>\n",
       "      <td>10km NNE of Parkfield, CA</td>\n",
       "      <td>earthquake</td>\n",
       "      <td>reviewed</td>\n",
       "      <td>nc</td>\n",
       "    </tr>\n",
       "    <tr>\n",
       "      <th>nc73674341</th>\n",
       "      <td>2022-01-06 06:11:48.790000+00:00</td>\n",
       "      <td>38.798500</td>\n",
       "      <td>-122.701500</td>\n",
       "      <td>NaN</td>\n",
       "      <td>NaN</td>\n",
       "      <td>3km NNW of Anderson Springs, CA</td>\n",
       "      <td>earthquake</td>\n",
       "      <td>reviewed</td>\n",
       "      <td>nc</td>\n",
       "    </tr>\n",
       "    <tr>\n",
       "      <th>pr71336423</th>\n",
       "      <td>2022-02-21 21:01:10.020000+00:00</td>\n",
       "      <td>17.956500</td>\n",
       "      <td>-66.928167</td>\n",
       "      <td>NaN</td>\n",
       "      <td>NaN</td>\n",
       "      <td>2 km SW of Guánica, Puerto Rico</td>\n",
       "      <td>earthquake</td>\n",
       "      <td>reviewed</td>\n",
       "      <td>pr</td>\n",
       "    </tr>\n",
       "  </tbody>\n",
       "</table>\n",
       "</div>"
      ],
      "text/plain": [
       "                                       time   latitude   longitude  mag  \\\n",
       "id                                                                        \n",
       "nc71127084 2022-01-18 14:50:55.480000+00:00  35.975333 -120.371000  NaN   \n",
       "nc73674341 2022-01-06 06:11:48.790000+00:00  38.798500 -122.701500  NaN   \n",
       "pr71336423 2022-02-21 21:01:10.020000+00:00  17.956500  -66.928167  NaN   \n",
       "\n",
       "           magType                            place        type    status  \\\n",
       "id                                                                          \n",
       "nc71127084     NaN        10km NNE of Parkfield, CA  earthquake  reviewed   \n",
       "nc73674341     NaN  3km NNW of Anderson Springs, CA  earthquake  reviewed   \n",
       "pr71336423     NaN  2 km SW of Guánica, Puerto Rico  earthquake  reviewed   \n",
       "\n",
       "           locationSource  \n",
       "id                         \n",
       "nc71127084             nc  \n",
       "nc73674341             nc  \n",
       "pr71336423             pr  "
      ]
     },
     "execution_count": 102,
     "metadata": {},
     "output_type": "execute_result"
    }
   ],
   "source": [
    "earthquakes[earthquakes[\"mag\"].isnull()]"
   ]
  },
  {
   "cell_type": "markdown",
   "id": "b11ab16d",
   "metadata": {},
   "source": [
    "## Dropping earthquakes with no magnitudes for which no values could be found"
   ]
  },
  {
   "cell_type": "code",
   "execution_count": 23,
   "id": "edaddb3e",
   "metadata": {},
   "outputs": [],
   "source": [
    "earthquakes = earthquakes.dropna(subset=[\"mag\"])"
   ]
  },
  {
   "cell_type": "code",
   "execution_count": 106,
   "id": "e32403c9",
   "metadata": {},
   "outputs": [
    {
     "data": {
      "text/plain": [
       "(35916, 9)"
      ]
     },
     "execution_count": 106,
     "metadata": {},
     "output_type": "execute_result"
    }
   ],
   "source": [
    "earthquakes.shape"
   ]
  },
  {
   "cell_type": "markdown",
   "id": "9900df2a",
   "metadata": {},
   "source": [
    "## Extracting month from the `time` attribute"
   ]
  },
  {
   "cell_type": "code",
   "execution_count": 21,
   "id": "1278f647",
   "metadata": {},
   "outputs": [],
   "source": [
    "earthquakes[\"month\"] = earthquakes[\"time\"].dt.month_name()"
   ]
  },
  {
   "cell_type": "code",
   "execution_count": 22,
   "id": "d94f1d53",
   "metadata": {},
   "outputs": [
    {
     "data": {
      "text/plain": [
       "January     12423\n",
       "March       12313\n",
       "February    11183\n",
       "Name: month, dtype: int64"
      ]
     },
     "execution_count": 22,
     "metadata": {},
     "output_type": "execute_result"
    }
   ],
   "source": [
    "earthquakes[\"month\"].value_counts()"
   ]
  },
  {
   "cell_type": "markdown",
   "id": "d8942e92",
   "metadata": {},
   "source": [
    "## Extracting state from the `longitude` and `latitude` attributes"
   ]
  },
  {
   "cell_type": "code",
   "execution_count": 134,
   "id": "2de073d0",
   "metadata": {},
   "outputs": [],
   "source": [
    "states = earthquakes[\"place\"].str.split(\n",
    "    pat=\",\",\n",
    "    n=1,\n",
    ").str.get(-1)"
   ]
  },
  {
   "cell_type": "code",
   "execution_count": 135,
   "id": "dd6dbe8e",
   "metadata": {},
   "outputs": [
    {
     "data": {
      "text/plain": [
       "id\n",
       "ok2022ccvb            Oklahoma\n",
       "ak0221e05fgq    Central Alaska\n",
       "ak0221e051u3            Alaska\n",
       "ak0221e050xt            Alaska\n",
       "ak0221e04enn            Alaska\n",
       "                     ...      \n",
       "ak0222r8d3ze            Alaska\n",
       "nc73699171                  CA\n",
       "ak0222r8acmt            Alaska\n",
       "uu60483552                Utah\n",
       "uw61819426              Canada\n",
       "Name: place, Length: 35916, dtype: object"
      ]
     },
     "execution_count": 135,
     "metadata": {},
     "output_type": "execute_result"
    }
   ],
   "source": [
    "states"
   ]
  },
  {
   "cell_type": "code",
   "execution_count": 138,
   "id": "893eb104",
   "metadata": {},
   "outputs": [
    {
     "name": "stdout",
     "output_type": "stream",
     "text": [
      "<class 'pandas.core.series.Series'>\n",
      "Index: 35916 entries, ok2022ccvb to uw61819426\n",
      "Series name: place\n",
      "Non-Null Count  Dtype \n",
      "--------------  ----- \n",
      "35781 non-null  object\n",
      "dtypes: object(1)\n",
      "memory usage: 1.6+ MB\n"
     ]
    }
   ],
   "source": [
    "states.info()"
   ]
  }
 ],
 "metadata": {
  "kernelspec": {
   "display_name": "Python 3 (ipykernel)",
   "language": "python",
   "name": "python3"
  },
  "language_info": {
   "codemirror_mode": {
    "name": "ipython",
    "version": 3
   },
   "file_extension": ".py",
   "mimetype": "text/x-python",
   "name": "python",
   "nbconvert_exporter": "python",
   "pygments_lexer": "ipython3",
   "version": "3.10.7"
  }
 },
 "nbformat": 4,
 "nbformat_minor": 5
}
