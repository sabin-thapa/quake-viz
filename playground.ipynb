{
 "cells": [
  {
   "cell_type": "code",
   "execution_count": 1,
   "id": "d0db8e06",
   "metadata": {},
   "outputs": [],
   "source": [
    "import pandas as pd\n",
    "import datetime"
   ]
  },
  {
   "cell_type": "markdown",
   "id": "ab21c6d9",
   "metadata": {},
   "source": [
    "## Data Exploration"
   ]
  },
  {
   "cell_type": "code",
   "execution_count": 2,
   "id": "a6afc861",
   "metadata": {},
   "outputs": [],
   "source": [
    "def csv_to_df(file):\n",
    "    return pd.read_csv(\n",
    "        file,\n",
    "        parse_dates=[\"time\"]\n",
    "    )"
   ]
  },
  {
   "cell_type": "code",
   "execution_count": 3,
   "id": "29adbcf8",
   "metadata": {},
   "outputs": [],
   "source": [
    "jan = csv_to_df(\"datasets/january.csv\")\n",
    "feb = csv_to_df(\"datasets/february.csv\")\n",
    "mar = csv_to_df(\"datasets/march.csv\")"
   ]
  },
  {
   "cell_type": "code",
   "execution_count": 4,
   "id": "54f16c3f",
   "metadata": {},
   "outputs": [
    {
     "data": {
      "text/plain": [
       "35919"
      ]
     },
     "execution_count": 4,
     "metadata": {},
     "output_type": "execute_result"
    }
   ],
   "source": [
    "sum(size for (size, _) in (jan.shape, feb.shape, mar.shape))"
   ]
  },
  {
   "cell_type": "code",
   "execution_count": 5,
   "id": "aac330a7",
   "metadata": {},
   "outputs": [],
   "source": [
    "earthquakes = pd.concat([jan, feb, mar])"
   ]
  },
  {
   "cell_type": "code",
   "execution_count": 6,
   "id": "f50dc802",
   "metadata": {},
   "outputs": [
    {
     "data": {
      "text/plain": [
       "(35919, 22)"
      ]
     },
     "execution_count": 6,
     "metadata": {},
     "output_type": "execute_result"
    }
   ],
   "source": [
    "earthquakes.shape"
   ]
  },
  {
   "cell_type": "code",
   "execution_count": 7,
   "id": "6e899178",
   "metadata": {},
   "outputs": [
    {
     "name": "stdout",
     "output_type": "stream",
     "text": [
      "<class 'pandas.core.frame.DataFrame'>\n",
      "Int64Index: 35919 entries, 0 to 12312\n",
      "Data columns (total 22 columns):\n",
      " #   Column           Non-Null Count  Dtype              \n",
      "---  ------           --------------  -----              \n",
      " 0   time             35919 non-null  datetime64[ns, UTC]\n",
      " 1   latitude         35919 non-null  float64            \n",
      " 2   longitude        35919 non-null  float64            \n",
      " 3   depth            35919 non-null  float64            \n",
      " 4   mag              35916 non-null  float64            \n",
      " 5   magType          35916 non-null  object             \n",
      " 6   nst              21283 non-null  float64            \n",
      " 7   gap              26711 non-null  float64            \n",
      " 8   dmin             22113 non-null  float64            \n",
      " 9   rms              35919 non-null  float64            \n",
      " 10  net              35919 non-null  object             \n",
      " 11  id               35919 non-null  object             \n",
      " 12  updated          35919 non-null  object             \n",
      " 13  place            35784 non-null  object             \n",
      " 14  type             35919 non-null  object             \n",
      " 15  horizontalError  23893 non-null  float64            \n",
      " 16  depthError       35919 non-null  float64            \n",
      " 17  magError         25175 non-null  float64            \n",
      " 18  magNst           26684 non-null  float64            \n",
      " 19  status           35919 non-null  object             \n",
      " 20  locationSource   35919 non-null  object             \n",
      " 21  magSource        35919 non-null  object             \n",
      "dtypes: datetime64[ns, UTC](1), float64(12), object(9)\n",
      "memory usage: 6.3+ MB\n"
     ]
    }
   ],
   "source": [
    "earthquakes.info()"
   ]
  },
  {
   "cell_type": "code",
   "execution_count": 8,
   "id": "dede6092",
   "metadata": {},
   "outputs": [
    {
     "data": {
      "text/html": [
       "<div>\n",
       "<style scoped>\n",
       "    .dataframe tbody tr th:only-of-type {\n",
       "        vertical-align: middle;\n",
       "    }\n",
       "\n",
       "    .dataframe tbody tr th {\n",
       "        vertical-align: top;\n",
       "    }\n",
       "\n",
       "    .dataframe thead th {\n",
       "        text-align: right;\n",
       "    }\n",
       "</style>\n",
       "<table border=\"1\" class=\"dataframe\">\n",
       "  <thead>\n",
       "    <tr style=\"text-align: right;\">\n",
       "      <th></th>\n",
       "      <th>time</th>\n",
       "      <th>latitude</th>\n",
       "      <th>longitude</th>\n",
       "      <th>depth</th>\n",
       "      <th>mag</th>\n",
       "      <th>magType</th>\n",
       "      <th>net</th>\n",
       "      <th>id</th>\n",
       "      <th>place</th>\n",
       "      <th>type</th>\n",
       "      <th>status</th>\n",
       "      <th>locationSource</th>\n",
       "      <th>magSource</th>\n",
       "    </tr>\n",
       "  </thead>\n",
       "  <tbody>\n",
       "    <tr>\n",
       "      <th>0</th>\n",
       "      <td>2022-01-30 23:58:39.500000+00:00</td>\n",
       "      <td>34.879167</td>\n",
       "      <td>-97.8520</td>\n",
       "      <td>14.67</td>\n",
       "      <td>0.99</td>\n",
       "      <td>ml</td>\n",
       "      <td>ok</td>\n",
       "      <td>ok2022ccvb</td>\n",
       "      <td>7 km WSW of Alex, Oklahoma</td>\n",
       "      <td>earthquake</td>\n",
       "      <td>reviewed</td>\n",
       "      <td>ok</td>\n",
       "      <td>ok</td>\n",
       "    </tr>\n",
       "    <tr>\n",
       "      <th>1</th>\n",
       "      <td>2022-01-30 23:56:19.237000+00:00</td>\n",
       "      <td>62.910000</td>\n",
       "      <td>-151.1774</td>\n",
       "      <td>107.60</td>\n",
       "      <td>1.40</td>\n",
       "      <td>ml</td>\n",
       "      <td>ak</td>\n",
       "      <td>ak0221e05fgq</td>\n",
       "      <td>Central Alaska</td>\n",
       "      <td>earthquake</td>\n",
       "      <td>reviewed</td>\n",
       "      <td>ak</td>\n",
       "      <td>ak</td>\n",
       "    </tr>\n",
       "    <tr>\n",
       "      <th>2</th>\n",
       "      <td>2022-01-30 23:54:44.477000+00:00</td>\n",
       "      <td>63.304800</td>\n",
       "      <td>-151.2721</td>\n",
       "      <td>8.80</td>\n",
       "      <td>1.10</td>\n",
       "      <td>ml</td>\n",
       "      <td>ak</td>\n",
       "      <td>ak0221e051u3</td>\n",
       "      <td>34 km SE of Denali National Park, Alaska</td>\n",
       "      <td>earthquake</td>\n",
       "      <td>reviewed</td>\n",
       "      <td>ak</td>\n",
       "      <td>ak</td>\n",
       "    </tr>\n",
       "    <tr>\n",
       "      <th>3</th>\n",
       "      <td>2022-01-30 23:54:32.973000+00:00</td>\n",
       "      <td>51.557800</td>\n",
       "      <td>-176.6738</td>\n",
       "      <td>39.60</td>\n",
       "      <td>1.80</td>\n",
       "      <td>ml</td>\n",
       "      <td>ak</td>\n",
       "      <td>ak0221e050xt</td>\n",
       "      <td>35 km S of Adak, Alaska</td>\n",
       "      <td>earthquake</td>\n",
       "      <td>reviewed</td>\n",
       "      <td>ak</td>\n",
       "      <td>ak</td>\n",
       "    </tr>\n",
       "    <tr>\n",
       "      <th>4</th>\n",
       "      <td>2022-01-30 23:51:44.207000+00:00</td>\n",
       "      <td>63.291700</td>\n",
       "      <td>-151.3217</td>\n",
       "      <td>9.90</td>\n",
       "      <td>1.10</td>\n",
       "      <td>ml</td>\n",
       "      <td>ak</td>\n",
       "      <td>ak0221e04enn</td>\n",
       "      <td>34 km SE of Denali National Park, Alaska</td>\n",
       "      <td>earthquake</td>\n",
       "      <td>reviewed</td>\n",
       "      <td>ak</td>\n",
       "      <td>ak</td>\n",
       "    </tr>\n",
       "  </tbody>\n",
       "</table>\n",
       "</div>"
      ],
      "text/plain": [
       "                              time   latitude  longitude   depth   mag  \\\n",
       "0 2022-01-30 23:58:39.500000+00:00  34.879167   -97.8520   14.67  0.99   \n",
       "1 2022-01-30 23:56:19.237000+00:00  62.910000  -151.1774  107.60  1.40   \n",
       "2 2022-01-30 23:54:44.477000+00:00  63.304800  -151.2721    8.80  1.10   \n",
       "3 2022-01-30 23:54:32.973000+00:00  51.557800  -176.6738   39.60  1.80   \n",
       "4 2022-01-30 23:51:44.207000+00:00  63.291700  -151.3217    9.90  1.10   \n",
       "\n",
       "  magType net            id                                     place  \\\n",
       "0      ml  ok    ok2022ccvb                7 km WSW of Alex, Oklahoma   \n",
       "1      ml  ak  ak0221e05fgq                            Central Alaska   \n",
       "2      ml  ak  ak0221e051u3  34 km SE of Denali National Park, Alaska   \n",
       "3      ml  ak  ak0221e050xt                   35 km S of Adak, Alaska   \n",
       "4      ml  ak  ak0221e04enn  34 km SE of Denali National Park, Alaska   \n",
       "\n",
       "         type    status locationSource magSource  \n",
       "0  earthquake  reviewed             ok        ok  \n",
       "1  earthquake  reviewed             ak        ak  \n",
       "2  earthquake  reviewed             ak        ak  \n",
       "3  earthquake  reviewed             ak        ak  \n",
       "4  earthquake  reviewed             ak        ak  "
      ]
     },
     "execution_count": 8,
     "metadata": {},
     "output_type": "execute_result"
    }
   ],
   "source": [
    "# Dropping unnecessary columns\n",
    "earthquakes.drop(\n",
    "    [\"nst\", \"gap\", \"dmin\", \"rms\", \"updated\", \"horizontalError\", \"depthError\", \"magError\", \"magNst\"],\n",
    "    axis=1\n",
    ").head()"
   ]
  },
  {
   "cell_type": "code",
   "execution_count": 9,
   "id": "149c52ef",
   "metadata": {},
   "outputs": [
    {
     "data": {
      "text/plain": [
       "array(['ok', 'ak', 'nc', 'us', 'av', 'hv', 'pr', 'ci', 'uw', 'nm', 'nn',\n",
       "       'uu', 'tx', 'mb', 'se'], dtype=object)"
      ]
     },
     "execution_count": 9,
     "metadata": {},
     "output_type": "execute_result"
    }
   ],
   "source": [
    "earthquakes[\"net\"].unique()"
   ]
  },
  {
   "cell_type": "code",
   "execution_count": 10,
   "id": "3526d057",
   "metadata": {},
   "outputs": [
    {
     "data": {
      "text/plain": [
       "array(['ok', 'ak', 'nc', 'us', 'av', 'hv', 'pr', 'ci', 'uw', 'nm', 'nn',\n",
       "       'uu', 'tx', 'mb', 'se'], dtype=object)"
      ]
     },
     "execution_count": 10,
     "metadata": {},
     "output_type": "execute_result"
    }
   ],
   "source": [
    "earthquakes[\"locationSource\"].unique()"
   ]
  },
  {
   "cell_type": "code",
   "execution_count": 11,
   "id": "286513ee",
   "metadata": {},
   "outputs": [
    {
     "data": {
      "text/plain": [
       "26.288167243528935"
      ]
     },
     "execution_count": 11,
     "metadata": {},
     "output_type": "execute_result"
    }
   ],
   "source": [
    "earthquakes[\"depth\"].mean()"
   ]
  },
  {
   "cell_type": "code",
   "execution_count": 12,
   "id": "18660e85",
   "metadata": {},
   "outputs": [
    {
     "data": {
      "text/plain": [
       "array(['reviewed', 'automatic'], dtype=object)"
      ]
     },
     "execution_count": 12,
     "metadata": {},
     "output_type": "execute_result"
    }
   ],
   "source": [
    "earthquakes[\"status\"].unique()"
   ]
  },
  {
   "cell_type": "code",
   "execution_count": 13,
   "id": "a95605d4",
   "metadata": {},
   "outputs": [
    {
     "data": {
      "text/plain": [
       "array(['earthquake', 'ice quake', 'explosion', 'mining explosion',\n",
       "       'quarry blast', 'volcanic eruption', 'other event'], dtype=object)"
      ]
     },
     "execution_count": 13,
     "metadata": {},
     "output_type": "execute_result"
    }
   ],
   "source": [
    "earthquakes[\"type\"].unique()"
   ]
  },
  {
   "cell_type": "markdown",
   "id": "2a33e78e",
   "metadata": {},
   "source": [
    "# Data Loading"
   ]
  },
  {
   "cell_type": "code",
   "execution_count": 14,
   "id": "4b38a327",
   "metadata": {},
   "outputs": [],
   "source": [
    "# Loading only columns necessary for visualization.\n",
    "def csv_to_df(file):\n",
    "    return pd.read_csv(\n",
    "        file,\n",
    "        parse_dates=[\"time\"],\n",
    "        usecols=[\n",
    "            \"id\",\n",
    "            \"time\",\n",
    "            \"latitude\",\n",
    "            \"longitude\",\n",
    "            \"mag\",\n",
    "            \"magType\",\n",
    "            \"place\",\n",
    "            \"type\",\n",
    "            \"status\",\n",
    "            \"locationSource\"\n",
    "        ],\n",
    "        index_col=\"id\"\n",
    "    )"
   ]
  },
  {
   "cell_type": "code",
   "execution_count": 15,
   "id": "82687859",
   "metadata": {},
   "outputs": [],
   "source": [
    "jan = csv_to_df(\"datasets/january.csv\")\n",
    "feb = csv_to_df(\"datasets/february.csv\")\n",
    "mar = csv_to_df(\"datasets/march.csv\")"
   ]
  },
  {
   "cell_type": "code",
   "execution_count": 16,
   "id": "e336c5af",
   "metadata": {},
   "outputs": [
    {
     "data": {
      "text/plain": [
       "35919"
      ]
     },
     "execution_count": 16,
     "metadata": {},
     "output_type": "execute_result"
    }
   ],
   "source": [
    "sum(size for (size, _) in (jan.shape, feb.shape, mar.shape))"
   ]
  },
  {
   "cell_type": "code",
   "execution_count": 17,
   "id": "5b1896db",
   "metadata": {},
   "outputs": [],
   "source": [
    "earthquakes = pd.concat([jan, feb, mar])"
   ]
  },
  {
   "cell_type": "code",
   "execution_count": 18,
   "id": "53fee270",
   "metadata": {},
   "outputs": [
    {
     "data": {
      "text/plain": [
       "(35919, 9)"
      ]
     },
     "execution_count": 18,
     "metadata": {},
     "output_type": "execute_result"
    }
   ],
   "source": [
    "earthquakes.shape"
   ]
  },
  {
   "cell_type": "code",
   "execution_count": 19,
   "id": "9b4ab236",
   "metadata": {},
   "outputs": [
    {
     "name": "stdout",
     "output_type": "stream",
     "text": [
      "<class 'pandas.core.frame.DataFrame'>\n",
      "Index: 35919 entries, ok2022ccvb to uw61819426\n",
      "Data columns (total 9 columns):\n",
      " #   Column          Non-Null Count  Dtype              \n",
      "---  ------          --------------  -----              \n",
      " 0   time            35919 non-null  datetime64[ns, UTC]\n",
      " 1   latitude        35919 non-null  float64            \n",
      " 2   longitude       35919 non-null  float64            \n",
      " 3   mag             35916 non-null  float64            \n",
      " 4   magType         35916 non-null  object             \n",
      " 5   place           35784 non-null  object             \n",
      " 6   type            35919 non-null  object             \n",
      " 7   status          35919 non-null  object             \n",
      " 8   locationSource  35919 non-null  object             \n",
      "dtypes: datetime64[ns, UTC](1), float64(3), object(5)\n",
      "memory usage: 2.7+ MB\n"
     ]
    }
   ],
   "source": [
    "earthquakes.info()"
   ]
  },
  {
   "cell_type": "markdown",
   "id": "c6477f3e",
   "metadata": {},
   "source": [
    "# Data Wrangling"
   ]
  },
  {
   "cell_type": "code",
   "execution_count": 20,
   "id": "78ab1057",
   "metadata": {},
   "outputs": [
    {
     "data": {
      "text/plain": [
       "time              35914\n",
       "latitude          28270\n",
       "longitude         29491\n",
       "mag                 635\n",
       "magType              10\n",
       "place             16335\n",
       "type                  7\n",
       "status                2\n",
       "locationSource       15\n",
       "dtype: int64"
      ]
     },
     "execution_count": 20,
     "metadata": {},
     "output_type": "execute_result"
    }
   ],
   "source": [
    "earthquakes.nunique()"
   ]
  },
  {
   "cell_type": "code",
   "execution_count": 21,
   "id": "373cc38c",
   "metadata": {},
   "outputs": [
    {
     "data": {
      "text/plain": [
       "array(['ok', 'ak', 'nc', 'us', 'av', 'hv', 'pr', 'ci', 'uw', 'nm', 'nn',\n",
       "       'uu', 'tx', 'mb', 'se'], dtype=object)"
      ]
     },
     "execution_count": 21,
     "metadata": {},
     "output_type": "execute_result"
    }
   ],
   "source": [
    "earthquakes[\"locationSource\"].unique()"
   ]
  },
  {
   "cell_type": "code",
   "execution_count": 22,
   "id": "daf669e3",
   "metadata": {},
   "outputs": [
    {
     "data": {
      "text/plain": [
       "array(['reviewed', 'automatic'], dtype=object)"
      ]
     },
     "execution_count": 22,
     "metadata": {},
     "output_type": "execute_result"
    }
   ],
   "source": [
    "earthquakes[\"status\"].unique()"
   ]
  },
  {
   "cell_type": "code",
   "execution_count": 23,
   "id": "d25f21f0",
   "metadata": {},
   "outputs": [
    {
     "data": {
      "text/plain": [
       "array(['earthquake', 'ice quake', 'explosion', 'mining explosion',\n",
       "       'quarry blast', 'volcanic eruption', 'other event'], dtype=object)"
      ]
     },
     "execution_count": 23,
     "metadata": {},
     "output_type": "execute_result"
    }
   ],
   "source": [
    "earthquakes[\"type\"].unique()"
   ]
  },
  {
   "cell_type": "code",
   "execution_count": 24,
   "id": "789667b6",
   "metadata": {},
   "outputs": [
    {
     "data": {
      "text/plain": [
       "array(['ml', 'md', 'mb', 'mw', 'mww', 'mb_lg', 'mwr', 'mh', nan, 'ms_20',\n",
       "       'mwb'], dtype=object)"
      ]
     },
     "execution_count": 24,
     "metadata": {},
     "output_type": "execute_result"
    }
   ],
   "source": [
    "earthquakes[\"magType\"].unique()"
   ]
  },
  {
   "cell_type": "markdown",
   "id": "6c6bf431",
   "metadata": {},
   "source": [
    "## Converting values to appropriate data types"
   ]
  },
  {
   "cell_type": "code",
   "execution_count": 25,
   "id": "97781f0b",
   "metadata": {},
   "outputs": [],
   "source": [
    "earthquakes[\"status\"] = earthquakes[\"status\"].astype(\"category\")\n",
    "earthquakes[\"locationSource\"] = earthquakes[\"locationSource\"].astype(\"category\")\n",
    "earthquakes[\"type\"] = earthquakes[\"type\"].astype(\"category\")\n",
    "earthquakes[\"magType\"] = earthquakes[\"magType\"].astype(\"category\")"
   ]
  },
  {
   "cell_type": "markdown",
   "id": "44c1d175",
   "metadata": {},
   "source": [
    "## Checking for missing values"
   ]
  },
  {
   "cell_type": "code",
   "execution_count": 26,
   "id": "1d6b0da9",
   "metadata": {},
   "outputs": [
    {
     "data": {
      "text/plain": [
       "(35919, 9)"
      ]
     },
     "execution_count": 26,
     "metadata": {},
     "output_type": "execute_result"
    }
   ],
   "source": [
    "earthquakes.shape"
   ]
  },
  {
   "cell_type": "code",
   "execution_count": 27,
   "id": "d809df8a",
   "metadata": {},
   "outputs": [
    {
     "name": "stdout",
     "output_type": "stream",
     "text": [
      "<class 'pandas.core.frame.DataFrame'>\n",
      "Index: 35919 entries, ok2022ccvb to uw61819426\n",
      "Data columns (total 9 columns):\n",
      " #   Column          Non-Null Count  Dtype              \n",
      "---  ------          --------------  -----              \n",
      " 0   time            35919 non-null  datetime64[ns, UTC]\n",
      " 1   latitude        35919 non-null  float64            \n",
      " 2   longitude       35919 non-null  float64            \n",
      " 3   mag             35916 non-null  float64            \n",
      " 4   magType         35916 non-null  category           \n",
      " 5   place           35784 non-null  object             \n",
      " 6   type            35919 non-null  category           \n",
      " 7   status          35919 non-null  category           \n",
      " 8   locationSource  35919 non-null  category           \n",
      "dtypes: category(4), datetime64[ns, UTC](1), float64(3), object(1)\n",
      "memory usage: 1.8+ MB\n"
     ]
    }
   ],
   "source": [
    "earthquakes.info()"
   ]
  },
  {
   "cell_type": "code",
   "execution_count": 28,
   "id": "44ee23fb",
   "metadata": {},
   "outputs": [
    {
     "data": {
      "text/plain": [
       "time              2022-01-30 11:14:16.340000+00:00\n",
       "latitude                                   61.3634\n",
       "longitude                                 -149.574\n",
       "mag                                            1.2\n",
       "magType                                         ml\n",
       "place                                          NaN\n",
       "type                                    earthquake\n",
       "status                                    reviewed\n",
       "locationSource                                  ak\n",
       "Name: ak0221dsr7ph, dtype: object"
      ]
     },
     "execution_count": 28,
     "metadata": {},
     "output_type": "execute_result"
    }
   ],
   "source": [
    "earthquakes[earthquakes[\"place\"].isnull()].iloc[0]"
   ]
  },
  {
   "cell_type": "code",
   "execution_count": 29,
   "id": "5031dd35",
   "metadata": {},
   "outputs": [
    {
     "data": {
      "text/html": [
       "<div>\n",
       "<style scoped>\n",
       "    .dataframe tbody tr th:only-of-type {\n",
       "        vertical-align: middle;\n",
       "    }\n",
       "\n",
       "    .dataframe tbody tr th {\n",
       "        vertical-align: top;\n",
       "    }\n",
       "\n",
       "    .dataframe thead th {\n",
       "        text-align: right;\n",
       "    }\n",
       "</style>\n",
       "<table border=\"1\" class=\"dataframe\">\n",
       "  <thead>\n",
       "    <tr style=\"text-align: right;\">\n",
       "      <th></th>\n",
       "      <th>time</th>\n",
       "      <th>latitude</th>\n",
       "      <th>longitude</th>\n",
       "      <th>mag</th>\n",
       "      <th>magType</th>\n",
       "      <th>place</th>\n",
       "      <th>type</th>\n",
       "      <th>status</th>\n",
       "      <th>locationSource</th>\n",
       "    </tr>\n",
       "    <tr>\n",
       "      <th>id</th>\n",
       "      <th></th>\n",
       "      <th></th>\n",
       "      <th></th>\n",
       "      <th></th>\n",
       "      <th></th>\n",
       "      <th></th>\n",
       "      <th></th>\n",
       "      <th></th>\n",
       "      <th></th>\n",
       "    </tr>\n",
       "  </thead>\n",
       "  <tbody>\n",
       "    <tr>\n",
       "      <th>nc71127084</th>\n",
       "      <td>2022-01-18 14:50:55.480000+00:00</td>\n",
       "      <td>35.975333</td>\n",
       "      <td>-120.371000</td>\n",
       "      <td>NaN</td>\n",
       "      <td>NaN</td>\n",
       "      <td>10km NNE of Parkfield, CA</td>\n",
       "      <td>earthquake</td>\n",
       "      <td>reviewed</td>\n",
       "      <td>nc</td>\n",
       "    </tr>\n",
       "    <tr>\n",
       "      <th>nc73674341</th>\n",
       "      <td>2022-01-06 06:11:48.790000+00:00</td>\n",
       "      <td>38.798500</td>\n",
       "      <td>-122.701500</td>\n",
       "      <td>NaN</td>\n",
       "      <td>NaN</td>\n",
       "      <td>3km NNW of Anderson Springs, CA</td>\n",
       "      <td>earthquake</td>\n",
       "      <td>reviewed</td>\n",
       "      <td>nc</td>\n",
       "    </tr>\n",
       "    <tr>\n",
       "      <th>pr71336423</th>\n",
       "      <td>2022-02-21 21:01:10.020000+00:00</td>\n",
       "      <td>17.956500</td>\n",
       "      <td>-66.928167</td>\n",
       "      <td>NaN</td>\n",
       "      <td>NaN</td>\n",
       "      <td>2 km SW of Guánica, Puerto Rico</td>\n",
       "      <td>earthquake</td>\n",
       "      <td>reviewed</td>\n",
       "      <td>pr</td>\n",
       "    </tr>\n",
       "  </tbody>\n",
       "</table>\n",
       "</div>"
      ],
      "text/plain": [
       "                                       time   latitude   longitude  mag  \\\n",
       "id                                                                        \n",
       "nc71127084 2022-01-18 14:50:55.480000+00:00  35.975333 -120.371000  NaN   \n",
       "nc73674341 2022-01-06 06:11:48.790000+00:00  38.798500 -122.701500  NaN   \n",
       "pr71336423 2022-02-21 21:01:10.020000+00:00  17.956500  -66.928167  NaN   \n",
       "\n",
       "           magType                            place        type    status  \\\n",
       "id                                                                          \n",
       "nc71127084     NaN        10km NNE of Parkfield, CA  earthquake  reviewed   \n",
       "nc73674341     NaN  3km NNW of Anderson Springs, CA  earthquake  reviewed   \n",
       "pr71336423     NaN  2 km SW of Guánica, Puerto Rico  earthquake  reviewed   \n",
       "\n",
       "           locationSource  \n",
       "id                         \n",
       "nc71127084             nc  \n",
       "nc73674341             nc  \n",
       "pr71336423             pr  "
      ]
     },
     "execution_count": 29,
     "metadata": {},
     "output_type": "execute_result"
    }
   ],
   "source": [
    "earthquakes[earthquakes[\"mag\"].isnull()]"
   ]
  },
  {
   "cell_type": "markdown",
   "id": "b11ab16d",
   "metadata": {},
   "source": [
    "## Dropping earthquakes with no magnitudes for which no values could be found"
   ]
  },
  {
   "cell_type": "code",
   "execution_count": 30,
   "id": "edaddb3e",
   "metadata": {},
   "outputs": [],
   "source": [
    "earthquakes = earthquakes.dropna(subset=[\"mag\"])"
   ]
  },
  {
   "cell_type": "code",
   "execution_count": 31,
   "id": "e32403c9",
   "metadata": {},
   "outputs": [
    {
     "data": {
      "text/plain": [
       "(35916, 9)"
      ]
     },
     "execution_count": 31,
     "metadata": {},
     "output_type": "execute_result"
    }
   ],
   "source": [
    "earthquakes.shape"
   ]
  },
  {
   "cell_type": "markdown",
   "id": "9900df2a",
   "metadata": {},
   "source": [
    "## Extracting month from the `time` attribute"
   ]
  },
  {
   "cell_type": "code",
   "execution_count": 32,
   "id": "1278f647",
   "metadata": {},
   "outputs": [],
   "source": [
    "earthquakes[\"month\"] = earthquakes[\"time\"].dt.month_name()"
   ]
  },
  {
   "cell_type": "code",
   "execution_count": 33,
   "id": "d94f1d53",
   "metadata": {},
   "outputs": [
    {
     "data": {
      "text/plain": [
       "January     12421\n",
       "March       12313\n",
       "February    11182\n",
       "Name: month, dtype: int64"
      ]
     },
     "execution_count": 33,
     "metadata": {},
     "output_type": "execute_result"
    }
   ],
   "source": [
    "earthquakes[\"month\"].value_counts()"
   ]
  },
  {
   "cell_type": "markdown",
   "id": "d8942e92",
   "metadata": {},
   "source": [
    "## Extracting state from the `longitude` and `latitude` attributes"
   ]
  },
  {
   "cell_type": "code",
   "execution_count": 34,
   "id": "2de073d0",
   "metadata": {},
   "outputs": [],
   "source": [
    "states = earthquakes[\"place\"].str.split(\n",
    "    pat=\",\",\n",
    "    n=1,\n",
    ").str.get(-1)"
   ]
  },
  {
   "cell_type": "code",
   "execution_count": 35,
   "id": "dd6dbe8e",
   "metadata": {},
   "outputs": [
    {
     "data": {
      "text/plain": [
       "id\n",
       "ok2022ccvb            Oklahoma\n",
       "ak0221e05fgq    Central Alaska\n",
       "ak0221e051u3            Alaska\n",
       "ak0221e050xt            Alaska\n",
       "ak0221e04enn            Alaska\n",
       "                     ...      \n",
       "ak0222r8d3ze            Alaska\n",
       "nc73699171                  CA\n",
       "ak0222r8acmt            Alaska\n",
       "uu60483552                Utah\n",
       "uw61819426              Canada\n",
       "Name: place, Length: 35916, dtype: object"
      ]
     },
     "execution_count": 35,
     "metadata": {},
     "output_type": "execute_result"
    }
   ],
   "source": [
    "states"
   ]
  },
  {
   "cell_type": "code",
   "execution_count": 36,
   "id": "893eb104",
   "metadata": {},
   "outputs": [
    {
     "name": "stdout",
     "output_type": "stream",
     "text": [
      "<class 'pandas.core.series.Series'>\n",
      "Index: 35916 entries, ok2022ccvb to uw61819426\n",
      "Series name: place\n",
      "Non-Null Count  Dtype \n",
      "--------------  ----- \n",
      "35781 non-null  object\n",
      "dtypes: object(1)\n",
      "memory usage: 1.6+ MB\n"
     ]
    }
   ],
   "source": [
    "states.info()"
   ]
  },
  {
   "cell_type": "code",
   "execution_count": 44,
   "id": "a42d3575",
   "metadata": {},
   "outputs": [],
   "source": [
    "temp = earthquakes[earthquakes[\"place\"].isnull()]"
   ]
  },
  {
   "cell_type": "code",
   "execution_count": 45,
   "id": "83448451",
   "metadata": {},
   "outputs": [
    {
     "data": {
      "text/html": [
       "<div>\n",
       "<style scoped>\n",
       "    .dataframe tbody tr th:only-of-type {\n",
       "        vertical-align: middle;\n",
       "    }\n",
       "\n",
       "    .dataframe tbody tr th {\n",
       "        vertical-align: top;\n",
       "    }\n",
       "\n",
       "    .dataframe thead th {\n",
       "        text-align: right;\n",
       "    }\n",
       "</style>\n",
       "<table border=\"1\" class=\"dataframe\">\n",
       "  <thead>\n",
       "    <tr style=\"text-align: right;\">\n",
       "      <th></th>\n",
       "      <th>time</th>\n",
       "      <th>latitude</th>\n",
       "      <th>longitude</th>\n",
       "      <th>mag</th>\n",
       "      <th>magType</th>\n",
       "      <th>place</th>\n",
       "      <th>type</th>\n",
       "      <th>status</th>\n",
       "      <th>locationSource</th>\n",
       "      <th>month</th>\n",
       "    </tr>\n",
       "    <tr>\n",
       "      <th>id</th>\n",
       "      <th></th>\n",
       "      <th></th>\n",
       "      <th></th>\n",
       "      <th></th>\n",
       "      <th></th>\n",
       "      <th></th>\n",
       "      <th></th>\n",
       "      <th></th>\n",
       "      <th></th>\n",
       "      <th></th>\n",
       "    </tr>\n",
       "  </thead>\n",
       "  <tbody>\n",
       "    <tr>\n",
       "      <th>ak0221dsr7ph</th>\n",
       "      <td>2022-01-30 11:14:16.340000+00:00</td>\n",
       "      <td>61.363400</td>\n",
       "      <td>-149.574000</td>\n",
       "      <td>1.20</td>\n",
       "      <td>ml</td>\n",
       "      <td>NaN</td>\n",
       "      <td>earthquake</td>\n",
       "      <td>reviewed</td>\n",
       "      <td>ak</td>\n",
       "      <td>January</td>\n",
       "    </tr>\n",
       "    <tr>\n",
       "      <th>tx2022byde</th>\n",
       "      <td>2022-01-28 10:23:37.233000+00:00</td>\n",
       "      <td>31.707534</td>\n",
       "      <td>-103.995351</td>\n",
       "      <td>2.50</td>\n",
       "      <td>ml</td>\n",
       "      <td>NaN</td>\n",
       "      <td>earthquake</td>\n",
       "      <td>reviewed</td>\n",
       "      <td>tx</td>\n",
       "      <td>January</td>\n",
       "    </tr>\n",
       "    <tr>\n",
       "      <th>ak0221afcyv4</th>\n",
       "      <td>2022-01-28 07:24:33.861000+00:00</td>\n",
       "      <td>53.216700</td>\n",
       "      <td>-166.734500</td>\n",
       "      <td>1.70</td>\n",
       "      <td>ml</td>\n",
       "      <td>NaN</td>\n",
       "      <td>earthquake</td>\n",
       "      <td>reviewed</td>\n",
       "      <td>ak</td>\n",
       "      <td>January</td>\n",
       "    </tr>\n",
       "    <tr>\n",
       "      <th>ak022191gw7r</th>\n",
       "      <td>2022-01-27 23:44:58.569000+00:00</td>\n",
       "      <td>60.281600</td>\n",
       "      <td>-152.497100</td>\n",
       "      <td>1.90</td>\n",
       "      <td>ml</td>\n",
       "      <td>NaN</td>\n",
       "      <td>earthquake</td>\n",
       "      <td>reviewed</td>\n",
       "      <td>ak</td>\n",
       "      <td>January</td>\n",
       "    </tr>\n",
       "    <tr>\n",
       "      <th>ak02218o8kpq</th>\n",
       "      <td>2022-01-27 01:22:26.695000+00:00</td>\n",
       "      <td>61.327600</td>\n",
       "      <td>-150.872700</td>\n",
       "      <td>1.60</td>\n",
       "      <td>ml</td>\n",
       "      <td>NaN</td>\n",
       "      <td>earthquake</td>\n",
       "      <td>reviewed</td>\n",
       "      <td>ak</td>\n",
       "      <td>January</td>\n",
       "    </tr>\n",
       "    <tr>\n",
       "      <th>...</th>\n",
       "      <td>...</td>\n",
       "      <td>...</td>\n",
       "      <td>...</td>\n",
       "      <td>...</td>\n",
       "      <td>...</td>\n",
       "      <td>...</td>\n",
       "      <td>...</td>\n",
       "      <td>...</td>\n",
       "      <td>...</td>\n",
       "      <td>...</td>\n",
       "    </tr>\n",
       "    <tr>\n",
       "      <th>pr71338438</th>\n",
       "      <td>2022-03-02 03:49:23.630000+00:00</td>\n",
       "      <td>18.042667</td>\n",
       "      <td>-66.894167</td>\n",
       "      <td>1.51</td>\n",
       "      <td>md</td>\n",
       "      <td>NaN</td>\n",
       "      <td>earthquake</td>\n",
       "      <td>reviewed</td>\n",
       "      <td>pr</td>\n",
       "      <td>March</td>\n",
       "    </tr>\n",
       "    <tr>\n",
       "      <th>us6000h23r</th>\n",
       "      <td>2022-03-01 04:52:18.615000+00:00</td>\n",
       "      <td>-7.162000</td>\n",
       "      <td>156.382800</td>\n",
       "      <td>4.30</td>\n",
       "      <td>mb</td>\n",
       "      <td>NaN</td>\n",
       "      <td>earthquake</td>\n",
       "      <td>reviewed</td>\n",
       "      <td>us</td>\n",
       "      <td>March</td>\n",
       "    </tr>\n",
       "    <tr>\n",
       "      <th>ak0222rabwus</th>\n",
       "      <td>2022-03-01 03:50:34.211000+00:00</td>\n",
       "      <td>60.655000</td>\n",
       "      <td>-152.423100</td>\n",
       "      <td>1.10</td>\n",
       "      <td>ml</td>\n",
       "      <td>NaN</td>\n",
       "      <td>earthquake</td>\n",
       "      <td>reviewed</td>\n",
       "      <td>ak</td>\n",
       "      <td>March</td>\n",
       "    </tr>\n",
       "    <tr>\n",
       "      <th>us6000h23y</th>\n",
       "      <td>2022-03-01 03:37:44.437000+00:00</td>\n",
       "      <td>-2.067800</td>\n",
       "      <td>127.825500</td>\n",
       "      <td>4.40</td>\n",
       "      <td>mb</td>\n",
       "      <td>NaN</td>\n",
       "      <td>earthquake</td>\n",
       "      <td>reviewed</td>\n",
       "      <td>us</td>\n",
       "      <td>March</td>\n",
       "    </tr>\n",
       "    <tr>\n",
       "      <th>ak0222ra8w07</th>\n",
       "      <td>2022-03-01 03:36:22.903000+00:00</td>\n",
       "      <td>63.195100</td>\n",
       "      <td>-151.359400</td>\n",
       "      <td>1.60</td>\n",
       "      <td>ml</td>\n",
       "      <td>NaN</td>\n",
       "      <td>earthquake</td>\n",
       "      <td>reviewed</td>\n",
       "      <td>ak</td>\n",
       "      <td>March</td>\n",
       "    </tr>\n",
       "  </tbody>\n",
       "</table>\n",
       "<p>135 rows × 10 columns</p>\n",
       "</div>"
      ],
      "text/plain": [
       "                                         time   latitude   longitude   mag  \\\n",
       "id                                                                           \n",
       "ak0221dsr7ph 2022-01-30 11:14:16.340000+00:00  61.363400 -149.574000  1.20   \n",
       "tx2022byde   2022-01-28 10:23:37.233000+00:00  31.707534 -103.995351  2.50   \n",
       "ak0221afcyv4 2022-01-28 07:24:33.861000+00:00  53.216700 -166.734500  1.70   \n",
       "ak022191gw7r 2022-01-27 23:44:58.569000+00:00  60.281600 -152.497100  1.90   \n",
       "ak02218o8kpq 2022-01-27 01:22:26.695000+00:00  61.327600 -150.872700  1.60   \n",
       "...                                       ...        ...         ...   ...   \n",
       "pr71338438   2022-03-02 03:49:23.630000+00:00  18.042667  -66.894167  1.51   \n",
       "us6000h23r   2022-03-01 04:52:18.615000+00:00  -7.162000  156.382800  4.30   \n",
       "ak0222rabwus 2022-03-01 03:50:34.211000+00:00  60.655000 -152.423100  1.10   \n",
       "us6000h23y   2022-03-01 03:37:44.437000+00:00  -2.067800  127.825500  4.40   \n",
       "ak0222ra8w07 2022-03-01 03:36:22.903000+00:00  63.195100 -151.359400  1.60   \n",
       "\n",
       "             magType place        type    status locationSource    month  \n",
       "id                                                                        \n",
       "ak0221dsr7ph      ml   NaN  earthquake  reviewed             ak  January  \n",
       "tx2022byde        ml   NaN  earthquake  reviewed             tx  January  \n",
       "ak0221afcyv4      ml   NaN  earthquake  reviewed             ak  January  \n",
       "ak022191gw7r      ml   NaN  earthquake  reviewed             ak  January  \n",
       "ak02218o8kpq      ml   NaN  earthquake  reviewed             ak  January  \n",
       "...              ...   ...         ...       ...            ...      ...  \n",
       "pr71338438        md   NaN  earthquake  reviewed             pr    March  \n",
       "us6000h23r        mb   NaN  earthquake  reviewed             us    March  \n",
       "ak0222rabwus      ml   NaN  earthquake  reviewed             ak    March  \n",
       "us6000h23y        mb   NaN  earthquake  reviewed             us    March  \n",
       "ak0222ra8w07      ml   NaN  earthquake  reviewed             ak    March  \n",
       "\n",
       "[135 rows x 10 columns]"
      ]
     },
     "execution_count": 45,
     "metadata": {},
     "output_type": "execute_result"
    }
   ],
   "source": [
    "temp"
   ]
  },
  {
   "cell_type": "code",
   "execution_count": 46,
   "id": "c743695a",
   "metadata": {},
   "outputs": [],
   "source": [
    "import geocoder"
   ]
  },
  {
   "cell_type": "code",
   "execution_count": 47,
   "id": "5a6b1a20",
   "metadata": {},
   "outputs": [],
   "source": [
    "def get_state(df):\n",
    "    g = geocoder.osm([df[\"latitude\"], df[\"longitude\"]], method=\"reverse\")\n",
    "    if g.ok:\n",
    "        geojson = g.geojson\n",
    "        address = geojson[\"features\"][0][\"properties\"][\"raw\"][\"address\"]\n",
    "        return address.get(\"ISO3166-2-lvl4\")\n",
    "    return \"\""
   ]
  },
  {
   "cell_type": "code",
   "execution_count": 52,
   "id": "68596d5b",
   "metadata": {},
   "outputs": [],
   "source": [
    "res = temp[[\"latitude\", \"longitude\"]].apply(get_state, axis=1)"
   ]
  },
  {
   "cell_type": "code",
   "execution_count": 59,
   "id": "02a1f322",
   "metadata": {},
   "outputs": [
    {
     "data": {
      "text/plain": [
       "False    132\n",
       "True       3\n",
       "dtype: int64"
      ]
     },
     "execution_count": 59,
     "metadata": {},
     "output_type": "execute_result"
    }
   ],
   "source": [
    "res.isnull().value_counts()"
   ]
  },
  {
   "cell_type": "code",
   "execution_count": 1,
   "id": "bc178c81",
   "metadata": {},
   "outputs": [],
   "source": [
    "# We actually get a lot of the missing values. So it can be applied on the original dataframe."
   ]
  },
  {
   "cell_type": "code",
   "execution_count": 2,
   "id": "eb23865f",
   "metadata": {},
   "outputs": [],
   "source": [
    "import pandas as pd"
   ]
  },
  {
   "cell_type": "code",
   "execution_count": 85,
   "id": "6f0ee7cc",
   "metadata": {},
   "outputs": [],
   "source": [
    "def csv_to_df(file):\n",
    "    return pd.read_csv(\n",
    "        file,\n",
    "        parse_dates=[\"time\"],\n",
    "        usecols=[\n",
    "            \"id\",\n",
    "            \"time\",\n",
    "            \"latitude\",\n",
    "            \"longitude\",\n",
    "            \"mag\",\n",
    "            \"magType\",\n",
    "            \"place\",\n",
    "            \"type\",\n",
    "            \"status\",\n",
    "            \"locationSource\",\n",
    "            \"state\",\n",
    "        ],\n",
    "        index_col=\"id\"\n",
    "    )"
   ]
  },
  {
   "cell_type": "code",
   "execution_count": 86,
   "id": "7e1f54f5",
   "metadata": {},
   "outputs": [],
   "source": [
    "jan = csv_to_df(\"datasets/jan-enriched.csv\")\n",
    "feb = csv_to_df(\"datasets/feb-enriched.csv\")\n",
    "mar = csv_to_df(\"datasets/mar-enriched.csv\")"
   ]
  },
  {
   "cell_type": "code",
   "execution_count": 87,
   "id": "4e3366b8",
   "metadata": {},
   "outputs": [
    {
     "data": {
      "text/plain": [
       "35919"
      ]
     },
     "execution_count": 87,
     "metadata": {},
     "output_type": "execute_result"
    }
   ],
   "source": [
    "sum(size for (size, _) in (jan.shape, feb.shape, mar.shape))"
   ]
  },
  {
   "cell_type": "code",
   "execution_count": 88,
   "id": "c45fa56f",
   "metadata": {},
   "outputs": [],
   "source": [
    "earthquakes = pd.concat([jan, feb, mar])"
   ]
  },
  {
   "cell_type": "code",
   "execution_count": 89,
   "id": "959c28bd",
   "metadata": {},
   "outputs": [
    {
     "data": {
      "text/plain": [
       "False    31088\n",
       "True       287\n",
       "Name: state, dtype: int64"
      ]
     },
     "execution_count": 89,
     "metadata": {},
     "output_type": "execute_result"
    }
   ],
   "source": [
    "earthquakes[\"state\"].str.startswith(\"CA\").value_counts()"
   ]
  },
  {
   "cell_type": "code",
   "execution_count": 90,
   "id": "cfb98c6e",
   "metadata": {},
   "outputs": [],
   "source": [
    "# Dropping Canadian states\n",
    "earthquakes = earthquakes[~earthquakes[\"state\"].str.startswith(\"CA\", na=False)]"
   ]
  },
  {
   "cell_type": "code",
   "execution_count": 91,
   "id": "ca305085",
   "metadata": {},
   "outputs": [
    {
     "data": {
      "text/plain": [
       "(35632, 10)"
      ]
     },
     "execution_count": 91,
     "metadata": {},
     "output_type": "execute_result"
    }
   ],
   "source": [
    "earthquakes.shape"
   ]
  },
  {
   "cell_type": "code",
   "execution_count": 92,
   "id": "56dd0294",
   "metadata": {},
   "outputs": [
    {
     "data": {
      "text/plain": [
       "(4544, 10)"
      ]
     },
     "execution_count": 92,
     "metadata": {},
     "output_type": "execute_result"
    }
   ],
   "source": [
    "earthquakes[earthquakes[\"state\"].isnull()].shape"
   ]
  },
  {
   "cell_type": "code",
   "execution_count": 93,
   "id": "acb0c461",
   "metadata": {},
   "outputs": [
    {
     "data": {
      "text/plain": [
       "(31088, 10)"
      ]
     },
     "execution_count": 93,
     "metadata": {},
     "output_type": "execute_result"
    }
   ],
   "source": [
    "earthquakes.dropna(subset=[\"state\"]).shape"
   ]
  },
  {
   "cell_type": "code",
   "execution_count": 94,
   "id": "0da76700",
   "metadata": {},
   "outputs": [
    {
     "data": {
      "text/plain": [
       "31088"
      ]
     },
     "execution_count": 94,
     "metadata": {},
     "output_type": "execute_result"
    }
   ],
   "source": [
    "35632 - 4544"
   ]
  },
  {
   "cell_type": "code",
   "execution_count": 95,
   "id": "4e1bc689",
   "metadata": {},
   "outputs": [],
   "source": [
    "# Dropping the islands stuff\n",
    "earthquakes = earthquakes.dropna(subset=[\"state\"])"
   ]
  },
  {
   "cell_type": "code",
   "execution_count": 98,
   "id": "b8ab0b72",
   "metadata": {},
   "outputs": [
    {
     "data": {
      "text/html": [
       "<div>\n",
       "<style scoped>\n",
       "    .dataframe tbody tr th:only-of-type {\n",
       "        vertical-align: middle;\n",
       "    }\n",
       "\n",
       "    .dataframe tbody tr th {\n",
       "        vertical-align: top;\n",
       "    }\n",
       "\n",
       "    .dataframe thead th {\n",
       "        text-align: right;\n",
       "    }\n",
       "</style>\n",
       "<table border=\"1\" class=\"dataframe\">\n",
       "  <thead>\n",
       "    <tr style=\"text-align: right;\">\n",
       "      <th></th>\n",
       "      <th>time</th>\n",
       "      <th>latitude</th>\n",
       "      <th>longitude</th>\n",
       "      <th>mag</th>\n",
       "      <th>magType</th>\n",
       "      <th>place</th>\n",
       "      <th>type</th>\n",
       "      <th>status</th>\n",
       "      <th>locationSource</th>\n",
       "      <th>state</th>\n",
       "    </tr>\n",
       "    <tr>\n",
       "      <th>id</th>\n",
       "      <th></th>\n",
       "      <th></th>\n",
       "      <th></th>\n",
       "      <th></th>\n",
       "      <th></th>\n",
       "      <th></th>\n",
       "      <th></th>\n",
       "      <th></th>\n",
       "      <th></th>\n",
       "      <th></th>\n",
       "    </tr>\n",
       "  </thead>\n",
       "  <tbody>\n",
       "    <tr>\n",
       "      <th>ok2022ccvb</th>\n",
       "      <td>2022-01-30 23:58:39.500000+00:00</td>\n",
       "      <td>34.879167</td>\n",
       "      <td>-97.8520</td>\n",
       "      <td>0.99</td>\n",
       "      <td>ml</td>\n",
       "      <td>7 km WSW of Alex, Oklahoma</td>\n",
       "      <td>earthquake</td>\n",
       "      <td>reviewed</td>\n",
       "      <td>ok</td>\n",
       "      <td>US-OK</td>\n",
       "    </tr>\n",
       "    <tr>\n",
       "      <th>ak0221e05fgq</th>\n",
       "      <td>2022-01-30 23:56:19.237000+00:00</td>\n",
       "      <td>62.910000</td>\n",
       "      <td>-151.1774</td>\n",
       "      <td>1.40</td>\n",
       "      <td>ml</td>\n",
       "      <td>Central Alaska</td>\n",
       "      <td>earthquake</td>\n",
       "      <td>reviewed</td>\n",
       "      <td>ak</td>\n",
       "      <td>US-AK</td>\n",
       "    </tr>\n",
       "    <tr>\n",
       "      <th>ak0221e051u3</th>\n",
       "      <td>2022-01-30 23:54:44.477000+00:00</td>\n",
       "      <td>63.304800</td>\n",
       "      <td>-151.2721</td>\n",
       "      <td>1.10</td>\n",
       "      <td>ml</td>\n",
       "      <td>34 km SE of Denali National Park, Alaska</td>\n",
       "      <td>earthquake</td>\n",
       "      <td>reviewed</td>\n",
       "      <td>ak</td>\n",
       "      <td>US-AK</td>\n",
       "    </tr>\n",
       "    <tr>\n",
       "      <th>ak0221e050xt</th>\n",
       "      <td>2022-01-30 23:54:32.973000+00:00</td>\n",
       "      <td>51.557800</td>\n",
       "      <td>-176.6738</td>\n",
       "      <td>1.80</td>\n",
       "      <td>ml</td>\n",
       "      <td>35 km S of Adak, Alaska</td>\n",
       "      <td>earthquake</td>\n",
       "      <td>reviewed</td>\n",
       "      <td>ak</td>\n",
       "      <td>US-AK</td>\n",
       "    </tr>\n",
       "    <tr>\n",
       "      <th>ak0221e04enn</th>\n",
       "      <td>2022-01-30 23:51:44.207000+00:00</td>\n",
       "      <td>63.291700</td>\n",
       "      <td>-151.3217</td>\n",
       "      <td>1.10</td>\n",
       "      <td>ml</td>\n",
       "      <td>34 km SE of Denali National Park, Alaska</td>\n",
       "      <td>earthquake</td>\n",
       "      <td>reviewed</td>\n",
       "      <td>ak</td>\n",
       "      <td>US-AK</td>\n",
       "    </tr>\n",
       "  </tbody>\n",
       "</table>\n",
       "</div>"
      ],
      "text/plain": [
       "                                         time   latitude  longitude   mag  \\\n",
       "id                                                                          \n",
       "ok2022ccvb   2022-01-30 23:58:39.500000+00:00  34.879167   -97.8520  0.99   \n",
       "ak0221e05fgq 2022-01-30 23:56:19.237000+00:00  62.910000  -151.1774  1.40   \n",
       "ak0221e051u3 2022-01-30 23:54:44.477000+00:00  63.304800  -151.2721  1.10   \n",
       "ak0221e050xt 2022-01-30 23:54:32.973000+00:00  51.557800  -176.6738  1.80   \n",
       "ak0221e04enn 2022-01-30 23:51:44.207000+00:00  63.291700  -151.3217  1.10   \n",
       "\n",
       "             magType                                     place        type  \\\n",
       "id                                                                           \n",
       "ok2022ccvb        ml                7 km WSW of Alex, Oklahoma  earthquake   \n",
       "ak0221e05fgq      ml                            Central Alaska  earthquake   \n",
       "ak0221e051u3      ml  34 km SE of Denali National Park, Alaska  earthquake   \n",
       "ak0221e050xt      ml                   35 km S of Adak, Alaska  earthquake   \n",
       "ak0221e04enn      ml  34 km SE of Denali National Park, Alaska  earthquake   \n",
       "\n",
       "                status locationSource  state  \n",
       "id                                            \n",
       "ok2022ccvb    reviewed             ok  US-OK  \n",
       "ak0221e05fgq  reviewed             ak  US-AK  \n",
       "ak0221e051u3  reviewed             ak  US-AK  \n",
       "ak0221e050xt  reviewed             ak  US-AK  \n",
       "ak0221e04enn  reviewed             ak  US-AK  "
      ]
     },
     "execution_count": 98,
     "metadata": {},
     "output_type": "execute_result"
    }
   ],
   "source": [
    "earthquakes.head()"
   ]
  },
  {
   "cell_type": "code",
   "execution_count": 99,
   "id": "8f73ee5e",
   "metadata": {},
   "outputs": [
    {
     "name": "stdout",
     "output_type": "stream",
     "text": [
      "<class 'pandas.core.frame.DataFrame'>\n",
      "Index: 31088 entries, ok2022ccvb to uu60483552\n",
      "Data columns (total 10 columns):\n",
      " #   Column          Non-Null Count  Dtype              \n",
      "---  ------          --------------  -----              \n",
      " 0   time            31088 non-null  datetime64[ns, UTC]\n",
      " 1   latitude        31088 non-null  float64            \n",
      " 2   longitude       31088 non-null  float64            \n",
      " 3   mag             31085 non-null  float64            \n",
      " 4   magType         31085 non-null  object             \n",
      " 5   place           31003 non-null  object             \n",
      " 6   type            31088 non-null  object             \n",
      " 7   status          31088 non-null  object             \n",
      " 8   locationSource  31088 non-null  object             \n",
      " 9   state           31088 non-null  object             \n",
      "dtypes: datetime64[ns, UTC](1), float64(3), object(6)\n",
      "memory usage: 2.6+ MB\n"
     ]
    }
   ],
   "source": [
    "earthquakes.info()"
   ]
  },
  {
   "cell_type": "code",
   "execution_count": 100,
   "id": "c0162da9",
   "metadata": {},
   "outputs": [
    {
     "data": {
      "text/html": [
       "<div>\n",
       "<style scoped>\n",
       "    .dataframe tbody tr th:only-of-type {\n",
       "        vertical-align: middle;\n",
       "    }\n",
       "\n",
       "    .dataframe tbody tr th {\n",
       "        vertical-align: top;\n",
       "    }\n",
       "\n",
       "    .dataframe thead th {\n",
       "        text-align: right;\n",
       "    }\n",
       "</style>\n",
       "<table border=\"1\" class=\"dataframe\">\n",
       "  <thead>\n",
       "    <tr style=\"text-align: right;\">\n",
       "      <th></th>\n",
       "      <th>time</th>\n",
       "      <th>latitude</th>\n",
       "      <th>longitude</th>\n",
       "      <th>mag</th>\n",
       "      <th>magType</th>\n",
       "      <th>place</th>\n",
       "      <th>type</th>\n",
       "      <th>status</th>\n",
       "      <th>locationSource</th>\n",
       "      <th>state</th>\n",
       "    </tr>\n",
       "    <tr>\n",
       "      <th>id</th>\n",
       "      <th></th>\n",
       "      <th></th>\n",
       "      <th></th>\n",
       "      <th></th>\n",
       "      <th></th>\n",
       "      <th></th>\n",
       "      <th></th>\n",
       "      <th></th>\n",
       "      <th></th>\n",
       "      <th></th>\n",
       "    </tr>\n",
       "  </thead>\n",
       "  <tbody>\n",
       "    <tr>\n",
       "      <th>nc71127084</th>\n",
       "      <td>2022-01-18 14:50:55.480000+00:00</td>\n",
       "      <td>35.975333</td>\n",
       "      <td>-120.371000</td>\n",
       "      <td>NaN</td>\n",
       "      <td>NaN</td>\n",
       "      <td>10km NNE of Parkfield, CA</td>\n",
       "      <td>earthquake</td>\n",
       "      <td>reviewed</td>\n",
       "      <td>nc</td>\n",
       "      <td>US-CA</td>\n",
       "    </tr>\n",
       "    <tr>\n",
       "      <th>nc73674341</th>\n",
       "      <td>2022-01-06 06:11:48.790000+00:00</td>\n",
       "      <td>38.798500</td>\n",
       "      <td>-122.701500</td>\n",
       "      <td>NaN</td>\n",
       "      <td>NaN</td>\n",
       "      <td>3km NNW of Anderson Springs, CA</td>\n",
       "      <td>earthquake</td>\n",
       "      <td>reviewed</td>\n",
       "      <td>nc</td>\n",
       "      <td>US-CA</td>\n",
       "    </tr>\n",
       "    <tr>\n",
       "      <th>pr71336423</th>\n",
       "      <td>2022-02-21 21:01:10.020000+00:00</td>\n",
       "      <td>17.956500</td>\n",
       "      <td>-66.928167</td>\n",
       "      <td>NaN</td>\n",
       "      <td>NaN</td>\n",
       "      <td>2 km SW of Guánica, Puerto Rico</td>\n",
       "      <td>earthquake</td>\n",
       "      <td>reviewed</td>\n",
       "      <td>pr</td>\n",
       "      <td>US-PR</td>\n",
       "    </tr>\n",
       "  </tbody>\n",
       "</table>\n",
       "</div>"
      ],
      "text/plain": [
       "                                       time   latitude   longitude  mag  \\\n",
       "id                                                                        \n",
       "nc71127084 2022-01-18 14:50:55.480000+00:00  35.975333 -120.371000  NaN   \n",
       "nc73674341 2022-01-06 06:11:48.790000+00:00  38.798500 -122.701500  NaN   \n",
       "pr71336423 2022-02-21 21:01:10.020000+00:00  17.956500  -66.928167  NaN   \n",
       "\n",
       "           magType                            place        type    status  \\\n",
       "id                                                                          \n",
       "nc71127084     NaN        10km NNE of Parkfield, CA  earthquake  reviewed   \n",
       "nc73674341     NaN  3km NNW of Anderson Springs, CA  earthquake  reviewed   \n",
       "pr71336423     NaN  2 km SW of Guánica, Puerto Rico  earthquake  reviewed   \n",
       "\n",
       "           locationSource  state  \n",
       "id                                \n",
       "nc71127084             nc  US-CA  \n",
       "nc73674341             nc  US-CA  \n",
       "pr71336423             pr  US-PR  "
      ]
     },
     "execution_count": 100,
     "metadata": {},
     "output_type": "execute_result"
    }
   ],
   "source": [
    "earthquakes[earthquakes[\"mag\"].isnull()]"
   ]
  },
  {
   "cell_type": "code",
   "execution_count": 101,
   "id": "9e424b5f",
   "metadata": {},
   "outputs": [],
   "source": [
    "earthquakes = earthquakes.dropna(subset=[\"mag\"])"
   ]
  },
  {
   "cell_type": "code",
   "execution_count": 102,
   "id": "8697e637",
   "metadata": {},
   "outputs": [
    {
     "name": "stdout",
     "output_type": "stream",
     "text": [
      "<class 'pandas.core.frame.DataFrame'>\n",
      "Index: 31085 entries, ok2022ccvb to uu60483552\n",
      "Data columns (total 10 columns):\n",
      " #   Column          Non-Null Count  Dtype              \n",
      "---  ------          --------------  -----              \n",
      " 0   time            31085 non-null  datetime64[ns, UTC]\n",
      " 1   latitude        31085 non-null  float64            \n",
      " 2   longitude       31085 non-null  float64            \n",
      " 3   mag             31085 non-null  float64            \n",
      " 4   magType         31085 non-null  object             \n",
      " 5   place           31000 non-null  object             \n",
      " 6   type            31085 non-null  object             \n",
      " 7   status          31085 non-null  object             \n",
      " 8   locationSource  31085 non-null  object             \n",
      " 9   state           31085 non-null  object             \n",
      "dtypes: datetime64[ns, UTC](1), float64(3), object(6)\n",
      "memory usage: 2.6+ MB\n"
     ]
    }
   ],
   "source": [
    "earthquakes.info()"
   ]
  },
  {
   "cell_type": "code",
   "execution_count": 105,
   "id": "afe7df58",
   "metadata": {},
   "outputs": [],
   "source": [
    "earthquakes = earthquakes.assign(\n",
    "    state_code=earthquakes[\"state\"].str.split(\"-\").str.get(-1).str.strip(),\n",
    "    month=earthquakes[\"time\"].dt.month_name() \n",
    ")"
   ]
  },
  {
   "cell_type": "code",
   "execution_count": 106,
   "id": "90f15687",
   "metadata": {},
   "outputs": [
    {
     "data": {
      "text/html": [
       "<div>\n",
       "<style scoped>\n",
       "    .dataframe tbody tr th:only-of-type {\n",
       "        vertical-align: middle;\n",
       "    }\n",
       "\n",
       "    .dataframe tbody tr th {\n",
       "        vertical-align: top;\n",
       "    }\n",
       "\n",
       "    .dataframe thead th {\n",
       "        text-align: right;\n",
       "    }\n",
       "</style>\n",
       "<table border=\"1\" class=\"dataframe\">\n",
       "  <thead>\n",
       "    <tr style=\"text-align: right;\">\n",
       "      <th></th>\n",
       "      <th>time</th>\n",
       "      <th>latitude</th>\n",
       "      <th>longitude</th>\n",
       "      <th>mag</th>\n",
       "      <th>magType</th>\n",
       "      <th>place</th>\n",
       "      <th>type</th>\n",
       "      <th>status</th>\n",
       "      <th>locationSource</th>\n",
       "      <th>state</th>\n",
       "      <th>state_code</th>\n",
       "      <th>month</th>\n",
       "    </tr>\n",
       "    <tr>\n",
       "      <th>id</th>\n",
       "      <th></th>\n",
       "      <th></th>\n",
       "      <th></th>\n",
       "      <th></th>\n",
       "      <th></th>\n",
       "      <th></th>\n",
       "      <th></th>\n",
       "      <th></th>\n",
       "      <th></th>\n",
       "      <th></th>\n",
       "      <th></th>\n",
       "      <th></th>\n",
       "    </tr>\n",
       "  </thead>\n",
       "  <tbody>\n",
       "    <tr>\n",
       "      <th>ok2022ccvb</th>\n",
       "      <td>2022-01-30 23:58:39.500000+00:00</td>\n",
       "      <td>34.879167</td>\n",
       "      <td>-97.8520</td>\n",
       "      <td>0.99</td>\n",
       "      <td>ml</td>\n",
       "      <td>7 km WSW of Alex, Oklahoma</td>\n",
       "      <td>earthquake</td>\n",
       "      <td>reviewed</td>\n",
       "      <td>ok</td>\n",
       "      <td>US-OK</td>\n",
       "      <td>OK</td>\n",
       "      <td>January</td>\n",
       "    </tr>\n",
       "    <tr>\n",
       "      <th>ak0221e05fgq</th>\n",
       "      <td>2022-01-30 23:56:19.237000+00:00</td>\n",
       "      <td>62.910000</td>\n",
       "      <td>-151.1774</td>\n",
       "      <td>1.40</td>\n",
       "      <td>ml</td>\n",
       "      <td>Central Alaska</td>\n",
       "      <td>earthquake</td>\n",
       "      <td>reviewed</td>\n",
       "      <td>ak</td>\n",
       "      <td>US-AK</td>\n",
       "      <td>AK</td>\n",
       "      <td>January</td>\n",
       "    </tr>\n",
       "    <tr>\n",
       "      <th>ak0221e051u3</th>\n",
       "      <td>2022-01-30 23:54:44.477000+00:00</td>\n",
       "      <td>63.304800</td>\n",
       "      <td>-151.2721</td>\n",
       "      <td>1.10</td>\n",
       "      <td>ml</td>\n",
       "      <td>34 km SE of Denali National Park, Alaska</td>\n",
       "      <td>earthquake</td>\n",
       "      <td>reviewed</td>\n",
       "      <td>ak</td>\n",
       "      <td>US-AK</td>\n",
       "      <td>AK</td>\n",
       "      <td>January</td>\n",
       "    </tr>\n",
       "    <tr>\n",
       "      <th>ak0221e050xt</th>\n",
       "      <td>2022-01-30 23:54:32.973000+00:00</td>\n",
       "      <td>51.557800</td>\n",
       "      <td>-176.6738</td>\n",
       "      <td>1.80</td>\n",
       "      <td>ml</td>\n",
       "      <td>35 km S of Adak, Alaska</td>\n",
       "      <td>earthquake</td>\n",
       "      <td>reviewed</td>\n",
       "      <td>ak</td>\n",
       "      <td>US-AK</td>\n",
       "      <td>AK</td>\n",
       "      <td>January</td>\n",
       "    </tr>\n",
       "    <tr>\n",
       "      <th>ak0221e04enn</th>\n",
       "      <td>2022-01-30 23:51:44.207000+00:00</td>\n",
       "      <td>63.291700</td>\n",
       "      <td>-151.3217</td>\n",
       "      <td>1.10</td>\n",
       "      <td>ml</td>\n",
       "      <td>34 km SE of Denali National Park, Alaska</td>\n",
       "      <td>earthquake</td>\n",
       "      <td>reviewed</td>\n",
       "      <td>ak</td>\n",
       "      <td>US-AK</td>\n",
       "      <td>AK</td>\n",
       "      <td>January</td>\n",
       "    </tr>\n",
       "  </tbody>\n",
       "</table>\n",
       "</div>"
      ],
      "text/plain": [
       "                                         time   latitude  longitude   mag  \\\n",
       "id                                                                          \n",
       "ok2022ccvb   2022-01-30 23:58:39.500000+00:00  34.879167   -97.8520  0.99   \n",
       "ak0221e05fgq 2022-01-30 23:56:19.237000+00:00  62.910000  -151.1774  1.40   \n",
       "ak0221e051u3 2022-01-30 23:54:44.477000+00:00  63.304800  -151.2721  1.10   \n",
       "ak0221e050xt 2022-01-30 23:54:32.973000+00:00  51.557800  -176.6738  1.80   \n",
       "ak0221e04enn 2022-01-30 23:51:44.207000+00:00  63.291700  -151.3217  1.10   \n",
       "\n",
       "             magType                                     place        type  \\\n",
       "id                                                                           \n",
       "ok2022ccvb        ml                7 km WSW of Alex, Oklahoma  earthquake   \n",
       "ak0221e05fgq      ml                            Central Alaska  earthquake   \n",
       "ak0221e051u3      ml  34 km SE of Denali National Park, Alaska  earthquake   \n",
       "ak0221e050xt      ml                   35 km S of Adak, Alaska  earthquake   \n",
       "ak0221e04enn      ml  34 km SE of Denali National Park, Alaska  earthquake   \n",
       "\n",
       "                status locationSource  state state_code    month  \n",
       "id                                                                \n",
       "ok2022ccvb    reviewed             ok  US-OK         OK  January  \n",
       "ak0221e05fgq  reviewed             ak  US-AK         AK  January  \n",
       "ak0221e051u3  reviewed             ak  US-AK         AK  January  \n",
       "ak0221e050xt  reviewed             ak  US-AK         AK  January  \n",
       "ak0221e04enn  reviewed             ak  US-AK         AK  January  "
      ]
     },
     "execution_count": 106,
     "metadata": {},
     "output_type": "execute_result"
    }
   ],
   "source": [
    "earthquakes.head()"
   ]
  },
  {
   "cell_type": "code",
   "execution_count": 109,
   "id": "aff5431e",
   "metadata": {},
   "outputs": [
    {
     "name": "stdout",
     "output_type": "stream",
     "text": [
      "<class 'pandas.core.frame.DataFrame'>\n",
      "Index: 31085 entries, ok2022ccvb to uu60483552\n",
      "Data columns (total 12 columns):\n",
      " #   Column          Non-Null Count  Dtype              \n",
      "---  ------          --------------  -----              \n",
      " 0   time            31085 non-null  datetime64[ns, UTC]\n",
      " 1   latitude        31085 non-null  float64            \n",
      " 2   longitude       31085 non-null  float64            \n",
      " 3   mag             31085 non-null  float64            \n",
      " 4   magType         31085 non-null  object             \n",
      " 5   place           31000 non-null  object             \n",
      " 6   type            31085 non-null  object             \n",
      " 7   status          31085 non-null  object             \n",
      " 8   locationSource  31085 non-null  object             \n",
      " 9   state           31085 non-null  object             \n",
      " 10  state_code      31085 non-null  object             \n",
      " 11  month           31085 non-null  object             \n",
      "dtypes: datetime64[ns, UTC](1), float64(3), object(8)\n",
      "memory usage: 3.1+ MB\n"
     ]
    }
   ],
   "source": [
    "earthquakes.info()"
   ]
  },
  {
   "cell_type": "code",
   "execution_count": 111,
   "id": "79a82eda",
   "metadata": {},
   "outputs": [
    {
     "data": {
      "text/plain": [
       "time              31080\n",
       "latitude          23616\n",
       "longitude         24759\n",
       "mag                 600\n",
       "magType               9\n",
       "place             13593\n",
       "type                  7\n",
       "status                2\n",
       "locationSource       15\n",
       "state               341\n",
       "state_code          272\n",
       "month                 3\n",
       "dtype: int64"
      ]
     },
     "execution_count": 111,
     "metadata": {},
     "output_type": "execute_result"
    }
   ],
   "source": [
    "earthquakes.nunique()"
   ]
  },
  {
   "cell_type": "code",
   "execution_count": 114,
   "id": "12ef8bf9",
   "metadata": {},
   "outputs": [
    {
     "data": {
      "text/plain": [
       "array(['US-OK', 'US-AK', 'US-CA', 'IR-18', 'ID-MA', 'US-HI', 'US-PR',\n",
       "       'US-WA', 'US-MO', 'US-NV', 'ID-SN', 'US-UT', 'ID-NT', 'PG-WPD',\n",
       "       'US-ID', 'US-TX', 'AR-A', 'US-WY', 'FJ-E', 'CL-AT', 'PG-ESW',\n",
       "       'ID-SA', 'AF-BDS', 'VU-PAM', 'ID-AC', 'JP-26', 'DO-10', 'PG-EBR',\n",
       "       'ID-MU', 'US-MT', 'US-TN', 'US-KS', 'JP-02', 'PE-UCA', 'TO-02',\n",
       "       'PE-HUC', 'ID-PA', 'BO-P', 'HT-NI', 'MX-CHP', 'AR-K', 'PK-GB',\n",
       "       'US-OH', 'CN-SC', 'CL-RM', 'ID-BE', 'US-OR', 'SB-TE', 'US-MN',\n",
       "       'AF-TAK', 'CL-AP', 'RU-SAK', 'JP-23', 'MX-BCN', 'CL-AN', 'MX-JAL',\n",
       "       'JP-04', 'CL-TA', 'US-SC', 'PG-MPL', 'PG-WBK', 'CN-XJ', 'US-CT',\n",
       "       'JP-30', 'CR-A', 'US-CO', 'GL-KU', 'PG-NIK', 'AR-M', 'JP-08',\n",
       "       'PE-ICA', 'CN-QH', 'PH-BTG', 'DO-14', 'CO-SAN', 'CD-TA', 'AR-J',\n",
       "       'US-NM', 'HT-OU', 'TW-ILA', 'PG-MRL', 'PH-AKL', 'TO-03', 'CN-XZ',\n",
       "       'TJ-RA', 'AU-WA', 'ID-NB', 'IN-UT', 'PE-ARE', 'US-MP', 'ID-JI',\n",
       "       'MA-03', 'DO-11', 'IR-03', 'AF-BGL', 'PE-PUN', 'NZ-STL', 'MM-11',\n",
       "       'TO-04', 'HT-NO', 'IL-Z', 'JP-15', 'IR-22', 'VU-TAE', 'PH-CAV',\n",
       "       'TR-10', 'PG-MPM', 'MM-01', 'AR-Y', 'JP-44', 'JP-01', 'RU-KAM',\n",
       "       'IN-JK', 'PH-DAO', 'GT-JU', 'ID-JA', 'JP-16', 'US-AR', 'MM-14',\n",
       "       'MX-GRO', 'US-GA', 'NZ-BOP', 'PE-PAS', 'CN-LN', 'IR-10', 'ID-GO',\n",
       "       'VU-SAM', 'PG-SAN', 'VU-SEE', 'ID-SG', 'VE-R', 'AF-BAL', 'IR-17',\n",
       "       'ID-SB', 'CO-CAS', 'EC-F', 'US-AZ', 'PE-TAC', 'ZA-GP', 'IN-MN',\n",
       "       'PK-PB', 'TR-38', 'US-ME', 'VU-MAP', 'ID-PB', 'MN-065', 'AF-BDG',\n",
       "       'RU-CHU', 'VU-TOB', 'ID-BT', 'MX-OAX', 'US-SD', 'JP-46', 'PH-IFU',\n",
       "       'RO-VN', 'SB-MK', 'US-NH', 'IR-08', 'IR-04', 'CN-YN', 'PH-DVO',\n",
       "       'RU-BU', 'CR-P', 'JP-12', 'PL-02', 'JP-20', 'NZ-TKI', 'US-VI',\n",
       "       'PK-BA', 'US-NY', 'IQ-SU', 'CL-CO', 'ID-ST', 'PG-NPP', 'PH-MAS',\n",
       "       'NI-LE', 'TJ-GB', 'PH-BTN', 'TW-TXG', 'ID-JT', 'CN-GS', 'PE-LIM',\n",
       "       'BT-14', 'JP-28', 'ZA-NC', 'PH-CAG', 'IR-05', 'TO-05', 'CL-ML',\n",
       "       'IN-AN', 'PG-NSB', 'AR-F', 'CL-VS', 'TZ-23', 'PE-PIU', 'US-MA',\n",
       "       'GT-SM', 'BO-S', 'RU-SA', 'TL-AN', 'CL-LI', 'SB-WE', 'JP-07',\n",
       "       'NZ-HKB', 'IN-HP', 'SS-EE', 'TR-19', 'GT-ES', 'PH-SUR', 'CO-BOL',\n",
       "       'JP-03', 'TL-BO', 'GB-ENG', 'PH-DAS', 'EC-S', 'NZ-MBH', 'PH-SOR',\n",
       "       'PH-SAR', 'TR-59', 'NZ-CAN', 'IQ-WA', 'PK-KP', 'SB-IS', 'TL-OE',\n",
       "       'TZ-28', 'JP-47', 'US-KY', 'EC-Y', 'TZ-26', 'NI-RI', 'CD-IT',\n",
       "       'PH-NSA', 'TW-HUA', 'ID-SU', 'RU-TY', 'CL-NB', 'FJ-N', 'SV-SO',\n",
       "       'UG-430', 'CD-SK', 'AM-SH', 'NZ-WTC', 'SB-GU', 'TR-48', 'IR-24',\n",
       "       'BA-BIH', 'KG-O', 'US-VA', 'IT-45', 'PL-24', 'PH-DIN', 'CO-HUI',\n",
       "       'PA-7', 'TR-77', 'CO-CES', 'JP-14', 'ZA-FS', 'IT-52', 'PH-AUR',\n",
       "       'TL-MF', 'IR-07', 'AF-FYB', 'PE-LOR', 'EC-L', 'JP-21', 'BO-L',\n",
       "       'US-NC', 'EG-GZ', 'ES-CT', 'RU-KYA', 'ID-LA', 'PE-APU', 'AU-SA',\n",
       "       'TW-TTT', 'EC-E', 'TR-37', 'PA-4', 'KN-K', 'US-IL', 'PH-MDC',\n",
       "       'DO-23', 'JP-11', 'CO-CHO', 'TR-09', 'JP-17', 'TR-16', 'KG-J',\n",
       "       'DO-12', 'PE-AMA', 'PH-LEY', 'PE-CUS', 'TW-NAN', 'KZ-YUZ', 'DZ-53',\n",
       "       'CN-NM', 'NZ-MWT', 'BO-O', 'PE-MOQ', 'DZ-26', 'PH-ILS', 'JP-10',\n",
       "       'MX-NLE', 'AF-ZAB', 'ID-JB', 'TW-PIF', 'VE-J', 'GE-IM', 'DO-15',\n",
       "       'TR-02', 'MX-MIC', 'TJ-SU', 'LA-LP', 'ZA-MP', 'PH-AGS', 'PE-AYA',\n",
       "       'CN-GD', 'PA-EM', 'ID-SS', 'FR-ARA', 'ZM-06', 'PH-COM', 'IR-02',\n",
       "       'PA-5', 'ET-SO', 'CN-HL', 'AU-NT', 'MX-VER', 'MN-041', 'CL-LL',\n",
       "       'UG-406', 'LA-PH', 'PH-SUK', 'RU-MUR', 'IR-14', 'ZA-NW', 'MX-SON',\n",
       "       'PH-TAR', 'RU-KDA', 'AF-PAN', 'VE-L', 'ID-KS'], dtype=object)"
      ]
     },
     "execution_count": 114,
     "metadata": {},
     "output_type": "execute_result"
    }
   ],
   "source": [
    "earthquakes[\"state\"].unique()"
   ]
  },
  {
   "cell_type": "code",
   "execution_count": 112,
   "id": "471d184c",
   "metadata": {},
   "outputs": [],
   "source": [
    "# Converting values to appropriate data types\n",
    "earthquakes[\"magType\"] = earthquakes[\"magType\"].astype(\"category\")\n",
    "earthquakes[\"type\"] = earthquakes[\"type\"].astype(\"category\")\n",
    "earthquakes[\"status\"] = earthquakes[\"status\"].astype(\"category\")\n",
    "earthquakes[\"locationSource\"] = earthquakes[\"locationSource\"].astype(\"category\")\n",
    "earthquakes[\"state\"]\n"
   ]
  },
  {
   "cell_type": "code",
   "execution_count": null,
   "id": "eaf23ada",
   "metadata": {},
   "outputs": [],
   "source": []
  }
 ],
 "metadata": {
  "kernelspec": {
   "display_name": "Python 3 (ipykernel)",
   "language": "python",
   "name": "python3"
  },
  "language_info": {
   "codemirror_mode": {
    "name": "ipython",
    "version": 3
   },
   "file_extension": ".py",
   "mimetype": "text/x-python",
   "name": "python",
   "nbconvert_exporter": "python",
   "pygments_lexer": "ipython3",
   "version": "3.10.7"
  }
 },
 "nbformat": 4,
 "nbformat_minor": 5
}
