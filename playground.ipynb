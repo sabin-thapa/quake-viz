{
 "cells": [
  {
   "cell_type": "code",
   "execution_count": 121,
   "id": "d0db8e06",
   "metadata": {},
   "outputs": [],
   "source": [
    "import pandas as pd\n",
    "import datetime"
   ]
  },
  {
   "cell_type": "markdown",
   "id": "ab21c6d9",
   "metadata": {},
   "source": [
    "## Data Loading"
   ]
  },
  {
   "cell_type": "code",
   "execution_count": 118,
   "id": "a6afc861",
   "metadata": {},
   "outputs": [],
   "source": [
    "def csv_to_df(file):\n",
    "    return pd.read_csv(\n",
    "        file,\n",
    "        parse_dates=[\"time\"]\n",
    "    )"
   ]
  },
  {
   "cell_type": "code",
   "execution_count": 126,
   "id": "29adbcf8",
   "metadata": {},
   "outputs": [],
   "source": [
    "jan = csv_to_df(\"datasets/january.csv\")\n",
    "feb = csv_to_df(\"datasets/february.csv\")\n",
    "mar = csv_to_df(\"datasets/march.csv\")"
   ]
  },
  {
   "cell_type": "code",
   "execution_count": 137,
   "id": "54f16c3f",
   "metadata": {},
   "outputs": [
    {
     "data": {
      "text/plain": [
       "35919"
      ]
     },
     "execution_count": 137,
     "metadata": {},
     "output_type": "execute_result"
    }
   ],
   "source": [
    "sum(size for (size, _) in (jan.shape, feb.shape, mar.shape))"
   ]
  },
  {
   "cell_type": "code",
   "execution_count": 130,
   "id": "0fbfb2ba",
   "metadata": {},
   "outputs": [],
   "source": [
    "earthquakes = pd.concat([jan, feb, mar])"
   ]
  },
  {
   "cell_type": "code",
   "execution_count": 140,
   "id": "f50dc802",
   "metadata": {},
   "outputs": [
    {
     "data": {
      "text/plain": [
       "(35919, 22)"
      ]
     },
     "execution_count": 140,
     "metadata": {},
     "output_type": "execute_result"
    }
   ],
   "source": [
    "earthquakes.shape"
   ]
  },
  {
   "cell_type": "markdown",
   "id": "69640011",
   "metadata": {},
   "source": [
    "## Data Wrangling"
   ]
  },
  {
   "cell_type": "code",
   "execution_count": 142,
   "id": "6e899178",
   "metadata": {},
   "outputs": [
    {
     "name": "stdout",
     "output_type": "stream",
     "text": [
      "<class 'pandas.core.frame.DataFrame'>\n",
      "Int64Index: 35919 entries, 0 to 12312\n",
      "Data columns (total 22 columns):\n",
      " #   Column           Non-Null Count  Dtype              \n",
      "---  ------           --------------  -----              \n",
      " 0   time             35919 non-null  datetime64[ns, UTC]\n",
      " 1   latitude         35919 non-null  float64            \n",
      " 2   longitude        35919 non-null  float64            \n",
      " 3   depth            35919 non-null  float64            \n",
      " 4   mag              35916 non-null  float64            \n",
      " 5   magType          35916 non-null  object             \n",
      " 6   nst              21283 non-null  float64            \n",
      " 7   gap              26711 non-null  float64            \n",
      " 8   dmin             22113 non-null  float64            \n",
      " 9   rms              35919 non-null  float64            \n",
      " 10  net              35919 non-null  object             \n",
      " 11  id               35919 non-null  object             \n",
      " 12  updated          35919 non-null  object             \n",
      " 13  place            35784 non-null  object             \n",
      " 14  type             35919 non-null  object             \n",
      " 15  horizontalError  23893 non-null  float64            \n",
      " 16  depthError       35919 non-null  float64            \n",
      " 17  magError         25175 non-null  float64            \n",
      " 18  magNst           26684 non-null  float64            \n",
      " 19  status           35919 non-null  object             \n",
      " 20  locationSource   35919 non-null  object             \n",
      " 21  magSource        35919 non-null  object             \n",
      "dtypes: datetime64[ns, UTC](1), float64(12), object(9)\n",
      "memory usage: 6.3+ MB\n"
     ]
    }
   ],
   "source": [
    "earthquakes.info()"
   ]
  },
  {
   "cell_type": "code",
   "execution_count": 144,
   "id": "286513ee",
   "metadata": {},
   "outputs": [
    {
     "data": {
      "text/plain": [
       "status                 2\n",
       "type                   7\n",
       "magType               10\n",
       "net                   15\n",
       "locationSource        15\n",
       "magSource             17\n",
       "nst                  125\n",
       "magNst               255\n",
       "mag                  635\n",
       "horizontalError     1120\n",
       "rms                 1464\n",
       "depthError          1611\n",
       "gap                 2425\n",
       "magError            4875\n",
       "depth               6577\n",
       "dmin               12412\n",
       "place              16335\n",
       "latitude           28270\n",
       "longitude          29491\n",
       "updated            29803\n",
       "time               35914\n",
       "id                 35919\n",
       "dtype: int64"
      ]
     },
     "execution_count": 144,
     "metadata": {},
     "output_type": "execute_result"
    }
   ],
   "source": [
    "earthquakes.nunique().sort_values()"
   ]
  },
  {
   "cell_type": "code",
   "execution_count": 145,
   "id": "18660e85",
   "metadata": {},
   "outputs": [
    {
     "data": {
      "text/plain": [
       "array(['reviewed', 'automatic'], dtype=object)"
      ]
     },
     "execution_count": 145,
     "metadata": {},
     "output_type": "execute_result"
    }
   ],
   "source": [
    "earthquakes[\"status\"].unique()"
   ]
  },
  {
   "cell_type": "code",
   "execution_count": 146,
   "id": "a95605d4",
   "metadata": {},
   "outputs": [
    {
     "data": {
      "text/plain": [
       "array(['earthquake', 'ice quake', 'explosion', 'mining explosion',\n",
       "       'quarry blast', 'volcanic eruption', 'other event'], dtype=object)"
      ]
     },
     "execution_count": 146,
     "metadata": {},
     "output_type": "execute_result"
    }
   ],
   "source": [
    "earthquakes[\"type\"].unique()"
   ]
  }
 ],
 "metadata": {
  "kernelspec": {
   "display_name": "Python 3 (ipykernel)",
   "language": "python",
   "name": "python3"
  },
  "language_info": {
   "codemirror_mode": {
    "name": "ipython",
    "version": 3
   },
   "file_extension": ".py",
   "mimetype": "text/x-python",
   "name": "python",
   "nbconvert_exporter": "python",
   "pygments_lexer": "ipython3",
   "version": "3.10.7"
  }
 },
 "nbformat": 4,
 "nbformat_minor": 5
}
