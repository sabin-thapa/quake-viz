{
 "cells": [
  {
   "cell_type": "code",
   "execution_count": 1,
   "id": "db63d4a9",
   "metadata": {},
   "outputs": [],
   "source": [
    "import pandas as pd"
   ]
  },
  {
   "cell_type": "code",
   "execution_count": 2,
   "id": "68c7a52c",
   "metadata": {},
   "outputs": [],
   "source": [
    "def csv_to_df(file):\n",
    "    return pd.read_csv(\n",
    "        file,\n",
    "        parse_dates=[\"time\"],\n",
    "        usecols=[\n",
    "            \"id\",\n",
    "            \"time\",\n",
    "            \"latitude\",\n",
    "            \"longitude\",\n",
    "            \"mag\",\n",
    "            \"magType\",\n",
    "            \"place\",\n",
    "            \"type\",\n",
    "            \"status\",\n",
    "            \"locationSource\",\n",
    "            \"state\",\n",
    "        ],\n",
    "        index_col=\"id\"\n",
    "    )"
   ]
  },
  {
   "cell_type": "code",
   "execution_count": 3,
   "id": "7947763e",
   "metadata": {},
   "outputs": [],
   "source": [
    "jan = csv_to_df(\"datasets/jan-enriched.csv\")\n",
    "feb = csv_to_df(\"datasets/feb-enriched.csv\")\n",
    "mar = csv_to_df(\"datasets/mar-enriched.csv\")"
   ]
  },
  {
   "cell_type": "code",
   "execution_count": 4,
   "id": "49da57f4",
   "metadata": {},
   "outputs": [
    {
     "data": {
      "text/plain": [
       "35919"
      ]
     },
     "execution_count": 4,
     "metadata": {},
     "output_type": "execute_result"
    }
   ],
   "source": [
    "sum(size for (size, _) in (jan.shape, feb.shape, mar.shape))"
   ]
  },
  {
   "cell_type": "code",
   "execution_count": 5,
   "id": "1dc775e9",
   "metadata": {},
   "outputs": [],
   "source": [
    "earthquakes = pd.concat([jan, feb, mar])"
   ]
  },
  {
   "cell_type": "code",
   "execution_count": 6,
   "id": "39d5de4e",
   "metadata": {},
   "outputs": [
    {
     "name": "stdout",
     "output_type": "stream",
     "text": [
      "<class 'pandas.core.frame.DataFrame'>\n",
      "Index: 35919 entries, ok2022ccvb to uw61819426\n",
      "Data columns (total 10 columns):\n",
      " #   Column          Non-Null Count  Dtype              \n",
      "---  ------          --------------  -----              \n",
      " 0   time            35919 non-null  datetime64[ns, UTC]\n",
      " 1   latitude        35919 non-null  float64            \n",
      " 2   longitude       35919 non-null  float64            \n",
      " 3   mag             35916 non-null  float64            \n",
      " 4   magType         35916 non-null  object             \n",
      " 5   place           35784 non-null  object             \n",
      " 6   type            35919 non-null  object             \n",
      " 7   status          35919 non-null  object             \n",
      " 8   locationSource  35919 non-null  object             \n",
      " 9   state           31375 non-null  object             \n",
      "dtypes: datetime64[ns, UTC](1), float64(3), object(6)\n",
      "memory usage: 3.0+ MB\n"
     ]
    }
   ],
   "source": [
    "earthquakes.info()"
   ]
  },
  {
   "cell_type": "code",
   "execution_count": 7,
   "id": "a3cf1f85",
   "metadata": {},
   "outputs": [
    {
     "data": {
      "text/plain": [
       "time              35914\n",
       "latitude          28270\n",
       "longitude         29491\n",
       "mag                 635\n",
       "magType              10\n",
       "place             16335\n",
       "type                  7\n",
       "status                2\n",
       "locationSource       15\n",
       "state               346\n",
       "dtype: int64"
      ]
     },
     "execution_count": 7,
     "metadata": {},
     "output_type": "execute_result"
    }
   ],
   "source": [
    "earthquakes.nunique()"
   ]
  },
  {
   "cell_type": "code",
   "execution_count": 8,
   "id": "8f86b96e",
   "metadata": {},
   "outputs": [
    {
     "data": {
      "text/plain": [
       "array(['US-OK', 'US-AK', 'US-CA', 'IR-18', 'ID-MA', 'US-HI', 'US-PR', nan,\n",
       "       'US-WA', 'CA-YT', 'CA-BC', 'US-MO', 'US-NV', 'ID-SN', 'US-UT',\n",
       "       'ID-NT', 'PG-WPD', 'US-ID', 'US-TX', 'AR-A', 'US-WY', 'FJ-E',\n",
       "       'CL-AT', 'PG-ESW', 'ID-SA', 'AF-BDS', 'VU-PAM', 'ID-AC', 'JP-26',\n",
       "       'DO-10', 'PG-EBR', 'ID-MU', 'US-MT', 'US-TN', 'US-KS', 'JP-02',\n",
       "       'PE-UCA', 'TO-02', 'PE-HUC', 'ID-PA', 'BO-P', 'HT-NI', 'MX-CHP',\n",
       "       'AR-K', 'PK-GB', 'US-OH', 'CN-SC', 'CL-RM', 'ID-BE', 'US-OR',\n",
       "       'SB-TE', 'US-MN', 'AF-TAK', 'CL-AP', 'RU-SAK', 'JP-23', 'MX-BCN',\n",
       "       'CL-AN', 'MX-JAL', 'JP-04', 'CL-TA', 'US-SC', 'PG-MPL', 'PG-WBK',\n",
       "       'CN-XJ', 'US-CT', 'JP-30', 'CR-A', 'US-CO', 'GL-KU', 'CA-NB',\n",
       "       'PG-NIK', 'AR-M', 'JP-08', 'PE-ICA', 'CN-QH', 'PH-BTG', 'DO-14',\n",
       "       'CO-SAN', 'CD-TA', 'AR-J', 'US-NM', 'HT-OU', 'TW-ILA', 'PG-MRL',\n",
       "       'CA-QC', 'PH-AKL', 'TO-03', 'CN-XZ', 'TJ-RA', 'AU-WA', 'ID-NB',\n",
       "       'IN-UT', 'PE-ARE', 'US-MP', 'ID-JI', 'MA-03', 'DO-11', 'IR-03',\n",
       "       'AF-BGL', 'PE-PUN', 'NZ-STL', 'MM-11', 'TO-04', 'HT-NO', 'IL-Z',\n",
       "       'JP-15', 'IR-22', 'VU-TAE', 'PH-CAV', 'TR-10', 'PG-MPM', 'MM-01',\n",
       "       'AR-Y', 'JP-44', 'JP-01', 'RU-KAM', 'IN-JK', 'PH-DAO', 'GT-JU',\n",
       "       'ID-JA', 'JP-16', 'US-AR', 'MM-14', 'MX-GRO', 'US-GA', 'NZ-BOP',\n",
       "       'PE-PAS', 'CN-LN', 'IR-10', 'ID-GO', 'VU-SAM', 'PG-SAN', 'VU-SEE',\n",
       "       'ID-SG', 'VE-R', 'AF-BAL', 'IR-17', 'ID-SB', 'CO-CAS', 'EC-F',\n",
       "       'US-AZ', 'PE-TAC', 'ZA-GP', 'IN-MN', 'PK-PB', 'TR-38', 'US-ME',\n",
       "       'VU-MAP', 'ID-PB', 'MN-065', 'AF-BDG', 'RU-CHU', 'VU-TOB', 'ID-BT',\n",
       "       'MX-OAX', 'US-SD', 'JP-46', 'PH-IFU', 'RO-VN', 'SB-MK', 'US-NH',\n",
       "       'IR-08', 'IR-04', 'CN-YN', 'PH-DVO', 'RU-BU', 'CR-P', 'JP-12',\n",
       "       'PL-02', 'JP-20', 'NZ-TKI', 'US-VI', 'PK-BA', 'US-NY', 'IQ-SU',\n",
       "       'CL-CO', 'ID-ST', 'PG-NPP', 'PH-MAS', 'NI-LE', 'TJ-GB', 'PH-BTN',\n",
       "       'TW-TXG', 'ID-JT', 'CN-GS', 'PE-LIM', 'BT-14', 'JP-28', 'ZA-NC',\n",
       "       'PH-CAG', 'IR-05', 'TO-05', 'CL-ML', 'IN-AN', 'PG-NSB', 'AR-F',\n",
       "       'CL-VS', 'TZ-23', 'PE-PIU', 'US-MA', 'GT-SM', 'BO-S', 'RU-SA',\n",
       "       'TL-AN', 'CL-LI', 'SB-WE', 'JP-07', 'NZ-HKB', 'IN-HP', 'SS-EE',\n",
       "       'TR-19', 'GT-ES', 'PH-SUR', 'CO-BOL', 'JP-03', 'TL-BO', 'GB-ENG',\n",
       "       'PH-DAS', 'EC-S', 'NZ-MBH', 'PH-SOR', 'PH-SAR', 'TR-59', 'NZ-CAN',\n",
       "       'IQ-WA', 'PK-KP', 'SB-IS', 'TL-OE', 'TZ-28', 'JP-47', 'US-KY',\n",
       "       'EC-Y', 'TZ-26', 'NI-RI', 'CD-IT', 'PH-NSA', 'TW-HUA', 'ID-SU',\n",
       "       'RU-TY', 'CL-NB', 'FJ-N', 'SV-SO', 'UG-430', 'CD-SK', 'AM-SH',\n",
       "       'CA-AB', 'NZ-WTC', 'SB-GU', 'TR-48', 'IR-24', 'BA-BIH', 'KG-O',\n",
       "       'US-VA', 'IT-45', 'PL-24', 'PH-DIN', 'CO-HUI', 'PA-7', 'TR-77',\n",
       "       'CO-CES', 'JP-14', 'ZA-FS', 'IT-52', 'PH-AUR', 'TL-MF', 'IR-07',\n",
       "       'AF-FYB', 'PE-LOR', 'EC-L', 'JP-21', 'BO-L', 'US-NC', 'EG-GZ',\n",
       "       'ES-CT', 'RU-KYA', 'ID-LA', 'PE-APU', 'AU-SA', 'TW-TTT', 'EC-E',\n",
       "       'TR-37', 'PA-4', 'KN-K', 'US-IL', 'PH-MDC', 'DO-23', 'JP-11',\n",
       "       'CO-CHO', 'TR-09', 'JP-17', 'TR-16', 'KG-J', 'DO-12', 'PE-AMA',\n",
       "       'PH-LEY', 'PE-CUS', 'TW-NAN', 'KZ-YUZ', 'DZ-53', 'CN-NM', 'NZ-MWT',\n",
       "       'BO-O', 'PE-MOQ', 'DZ-26', 'PH-ILS', 'JP-10', 'MX-NLE', 'AF-ZAB',\n",
       "       'ID-JB', 'TW-PIF', 'VE-J', 'GE-IM', 'DO-15', 'TR-02', 'MX-MIC',\n",
       "       'TJ-SU', 'LA-LP', 'ZA-MP', 'PH-AGS', 'PE-AYA', 'CN-GD', 'PA-EM',\n",
       "       'ID-SS', 'FR-ARA', 'ZM-06', 'PH-COM', 'IR-02', 'PA-5', 'ET-SO',\n",
       "       'CN-HL', 'AU-NT', 'MX-VER', 'MN-041', 'CL-LL', 'UG-406', 'LA-PH',\n",
       "       'PH-SUK', 'RU-MUR', 'IR-14', 'ZA-NW', 'MX-SON', 'PH-TAR', 'RU-KDA',\n",
       "       'AF-PAN', 'VE-L', 'ID-KS'], dtype=object)"
      ]
     },
     "execution_count": 8,
     "metadata": {},
     "output_type": "execute_result"
    }
   ],
   "source": [
    "earthquakes[\"state\"].unique()"
   ]
  },
  {
   "cell_type": "code",
   "execution_count": 9,
   "id": "0a701280",
   "metadata": {},
   "outputs": [],
   "source": [
    "# We see states for countries other than the USA. Also, the states field reports null for islands and stuff.\n",
    "#So dropping countries other than the USA.\n",
    "us_earthquakes = earthquakes[earthquakes[\"state\"].str.startswith(\"US\", na=False)]"
   ]
  },
  {
   "cell_type": "code",
   "execution_count": 10,
   "id": "4128cdd8",
   "metadata": {},
   "outputs": [
    {
     "data": {
      "text/plain": [
       "time              29355\n",
       "latitude          21909\n",
       "longitude         23051\n",
       "mag                 578\n",
       "magType               8\n",
       "place             12013\n",
       "type                  6\n",
       "status                2\n",
       "locationSource       15\n",
       "state                36\n",
       "dtype: int64"
      ]
     },
     "execution_count": 10,
     "metadata": {},
     "output_type": "execute_result"
    }
   ],
   "source": [
    "us_earthquakes.nunique()"
   ]
  },
  {
   "cell_type": "code",
   "execution_count": 11,
   "id": "2c89bbde",
   "metadata": {},
   "outputs": [
    {
     "data": {
      "text/html": [
       "<div>\n",
       "<style scoped>\n",
       "    .dataframe tbody tr th:only-of-type {\n",
       "        vertical-align: middle;\n",
       "    }\n",
       "\n",
       "    .dataframe tbody tr th {\n",
       "        vertical-align: top;\n",
       "    }\n",
       "\n",
       "    .dataframe thead th {\n",
       "        text-align: right;\n",
       "    }\n",
       "</style>\n",
       "<table border=\"1\" class=\"dataframe\">\n",
       "  <thead>\n",
       "    <tr style=\"text-align: right;\">\n",
       "      <th></th>\n",
       "      <th>time</th>\n",
       "      <th>latitude</th>\n",
       "      <th>longitude</th>\n",
       "      <th>mag</th>\n",
       "      <th>magType</th>\n",
       "      <th>place</th>\n",
       "      <th>type</th>\n",
       "      <th>status</th>\n",
       "      <th>locationSource</th>\n",
       "      <th>state</th>\n",
       "    </tr>\n",
       "    <tr>\n",
       "      <th>id</th>\n",
       "      <th></th>\n",
       "      <th></th>\n",
       "      <th></th>\n",
       "      <th></th>\n",
       "      <th></th>\n",
       "      <th></th>\n",
       "      <th></th>\n",
       "      <th></th>\n",
       "      <th></th>\n",
       "      <th></th>\n",
       "    </tr>\n",
       "  </thead>\n",
       "  <tbody>\n",
       "    <tr>\n",
       "      <th>nc71127084</th>\n",
       "      <td>2022-01-18 14:50:55.480000+00:00</td>\n",
       "      <td>35.975333</td>\n",
       "      <td>-120.371000</td>\n",
       "      <td>NaN</td>\n",
       "      <td>NaN</td>\n",
       "      <td>10km NNE of Parkfield, CA</td>\n",
       "      <td>earthquake</td>\n",
       "      <td>reviewed</td>\n",
       "      <td>nc</td>\n",
       "      <td>US-CA</td>\n",
       "    </tr>\n",
       "    <tr>\n",
       "      <th>nc73674341</th>\n",
       "      <td>2022-01-06 06:11:48.790000+00:00</td>\n",
       "      <td>38.798500</td>\n",
       "      <td>-122.701500</td>\n",
       "      <td>NaN</td>\n",
       "      <td>NaN</td>\n",
       "      <td>3km NNW of Anderson Springs, CA</td>\n",
       "      <td>earthquake</td>\n",
       "      <td>reviewed</td>\n",
       "      <td>nc</td>\n",
       "      <td>US-CA</td>\n",
       "    </tr>\n",
       "    <tr>\n",
       "      <th>pr71336423</th>\n",
       "      <td>2022-02-21 21:01:10.020000+00:00</td>\n",
       "      <td>17.956500</td>\n",
       "      <td>-66.928167</td>\n",
       "      <td>NaN</td>\n",
       "      <td>NaN</td>\n",
       "      <td>2 km SW of Guánica, Puerto Rico</td>\n",
       "      <td>earthquake</td>\n",
       "      <td>reviewed</td>\n",
       "      <td>pr</td>\n",
       "      <td>US-PR</td>\n",
       "    </tr>\n",
       "  </tbody>\n",
       "</table>\n",
       "</div>"
      ],
      "text/plain": [
       "                                       time   latitude   longitude  mag  \\\n",
       "id                                                                        \n",
       "nc71127084 2022-01-18 14:50:55.480000+00:00  35.975333 -120.371000  NaN   \n",
       "nc73674341 2022-01-06 06:11:48.790000+00:00  38.798500 -122.701500  NaN   \n",
       "pr71336423 2022-02-21 21:01:10.020000+00:00  17.956500  -66.928167  NaN   \n",
       "\n",
       "           magType                            place        type    status  \\\n",
       "id                                                                          \n",
       "nc71127084     NaN        10km NNE of Parkfield, CA  earthquake  reviewed   \n",
       "nc73674341     NaN  3km NNW of Anderson Springs, CA  earthquake  reviewed   \n",
       "pr71336423     NaN  2 km SW of Guánica, Puerto Rico  earthquake  reviewed   \n",
       "\n",
       "           locationSource  state  \n",
       "id                                \n",
       "nc71127084             nc  US-CA  \n",
       "nc73674341             nc  US-CA  \n",
       "pr71336423             pr  US-PR  "
      ]
     },
     "execution_count": 11,
     "metadata": {},
     "output_type": "execute_result"
    }
   ],
   "source": [
    "us_earthquakes[us_earthquakes[\"mag\"].isnull()]"
   ]
  },
  {
   "cell_type": "code",
   "execution_count": 12,
   "id": "4509a763",
   "metadata": {},
   "outputs": [],
   "source": [
    "# Dropping earthquakes with missing magnitude values\n",
    "us_earthquakes = us_earthquakes.dropna(subset=[\"mag\"])"
   ]
  },
  {
   "cell_type": "code",
   "execution_count": 13,
   "id": "632abc08",
   "metadata": {},
   "outputs": [],
   "source": [
    "# Extracting state code from state data and month from time.\n",
    "us_earthquakes = us_earthquakes.assign(\n",
    "    state_code=us_earthquakes[\"state\"].str.split(\"-\").str.get(-1).str.strip(),\n",
    "    month=us_earthquakes[\"time\"].dt.month_name()\n",
    ")"
   ]
  },
  {
   "cell_type": "code",
   "execution_count": 14,
   "id": "02e75e86",
   "metadata": {},
   "outputs": [
    {
     "data": {
      "text/html": [
       "<div>\n",
       "<style scoped>\n",
       "    .dataframe tbody tr th:only-of-type {\n",
       "        vertical-align: middle;\n",
       "    }\n",
       "\n",
       "    .dataframe tbody tr th {\n",
       "        vertical-align: top;\n",
       "    }\n",
       "\n",
       "    .dataframe thead th {\n",
       "        text-align: right;\n",
       "    }\n",
       "</style>\n",
       "<table border=\"1\" class=\"dataframe\">\n",
       "  <thead>\n",
       "    <tr style=\"text-align: right;\">\n",
       "      <th></th>\n",
       "      <th>time</th>\n",
       "      <th>latitude</th>\n",
       "      <th>longitude</th>\n",
       "      <th>mag</th>\n",
       "      <th>magType</th>\n",
       "      <th>place</th>\n",
       "      <th>type</th>\n",
       "      <th>status</th>\n",
       "      <th>locationSource</th>\n",
       "      <th>state</th>\n",
       "      <th>state_code</th>\n",
       "      <th>month</th>\n",
       "    </tr>\n",
       "    <tr>\n",
       "      <th>id</th>\n",
       "      <th></th>\n",
       "      <th></th>\n",
       "      <th></th>\n",
       "      <th></th>\n",
       "      <th></th>\n",
       "      <th></th>\n",
       "      <th></th>\n",
       "      <th></th>\n",
       "      <th></th>\n",
       "      <th></th>\n",
       "      <th></th>\n",
       "      <th></th>\n",
       "    </tr>\n",
       "  </thead>\n",
       "  <tbody>\n",
       "    <tr>\n",
       "      <th>ok2022ccvb</th>\n",
       "      <td>2022-01-30 23:58:39.500000+00:00</td>\n",
       "      <td>34.879167</td>\n",
       "      <td>-97.8520</td>\n",
       "      <td>0.99</td>\n",
       "      <td>ml</td>\n",
       "      <td>7 km WSW of Alex, Oklahoma</td>\n",
       "      <td>earthquake</td>\n",
       "      <td>reviewed</td>\n",
       "      <td>ok</td>\n",
       "      <td>US-OK</td>\n",
       "      <td>OK</td>\n",
       "      <td>January</td>\n",
       "    </tr>\n",
       "    <tr>\n",
       "      <th>ak0221e05fgq</th>\n",
       "      <td>2022-01-30 23:56:19.237000+00:00</td>\n",
       "      <td>62.910000</td>\n",
       "      <td>-151.1774</td>\n",
       "      <td>1.40</td>\n",
       "      <td>ml</td>\n",
       "      <td>Central Alaska</td>\n",
       "      <td>earthquake</td>\n",
       "      <td>reviewed</td>\n",
       "      <td>ak</td>\n",
       "      <td>US-AK</td>\n",
       "      <td>AK</td>\n",
       "      <td>January</td>\n",
       "    </tr>\n",
       "    <tr>\n",
       "      <th>ak0221e051u3</th>\n",
       "      <td>2022-01-30 23:54:44.477000+00:00</td>\n",
       "      <td>63.304800</td>\n",
       "      <td>-151.2721</td>\n",
       "      <td>1.10</td>\n",
       "      <td>ml</td>\n",
       "      <td>34 km SE of Denali National Park, Alaska</td>\n",
       "      <td>earthquake</td>\n",
       "      <td>reviewed</td>\n",
       "      <td>ak</td>\n",
       "      <td>US-AK</td>\n",
       "      <td>AK</td>\n",
       "      <td>January</td>\n",
       "    </tr>\n",
       "    <tr>\n",
       "      <th>ak0221e050xt</th>\n",
       "      <td>2022-01-30 23:54:32.973000+00:00</td>\n",
       "      <td>51.557800</td>\n",
       "      <td>-176.6738</td>\n",
       "      <td>1.80</td>\n",
       "      <td>ml</td>\n",
       "      <td>35 km S of Adak, Alaska</td>\n",
       "      <td>earthquake</td>\n",
       "      <td>reviewed</td>\n",
       "      <td>ak</td>\n",
       "      <td>US-AK</td>\n",
       "      <td>AK</td>\n",
       "      <td>January</td>\n",
       "    </tr>\n",
       "    <tr>\n",
       "      <th>ak0221e04enn</th>\n",
       "      <td>2022-01-30 23:51:44.207000+00:00</td>\n",
       "      <td>63.291700</td>\n",
       "      <td>-151.3217</td>\n",
       "      <td>1.10</td>\n",
       "      <td>ml</td>\n",
       "      <td>34 km SE of Denali National Park, Alaska</td>\n",
       "      <td>earthquake</td>\n",
       "      <td>reviewed</td>\n",
       "      <td>ak</td>\n",
       "      <td>US-AK</td>\n",
       "      <td>AK</td>\n",
       "      <td>January</td>\n",
       "    </tr>\n",
       "  </tbody>\n",
       "</table>\n",
       "</div>"
      ],
      "text/plain": [
       "                                         time   latitude  longitude   mag  \\\n",
       "id                                                                          \n",
       "ok2022ccvb   2022-01-30 23:58:39.500000+00:00  34.879167   -97.8520  0.99   \n",
       "ak0221e05fgq 2022-01-30 23:56:19.237000+00:00  62.910000  -151.1774  1.40   \n",
       "ak0221e051u3 2022-01-30 23:54:44.477000+00:00  63.304800  -151.2721  1.10   \n",
       "ak0221e050xt 2022-01-30 23:54:32.973000+00:00  51.557800  -176.6738  1.80   \n",
       "ak0221e04enn 2022-01-30 23:51:44.207000+00:00  63.291700  -151.3217  1.10   \n",
       "\n",
       "             magType                                     place        type  \\\n",
       "id                                                                           \n",
       "ok2022ccvb        ml                7 km WSW of Alex, Oklahoma  earthquake   \n",
       "ak0221e05fgq      ml                            Central Alaska  earthquake   \n",
       "ak0221e051u3      ml  34 km SE of Denali National Park, Alaska  earthquake   \n",
       "ak0221e050xt      ml                   35 km S of Adak, Alaska  earthquake   \n",
       "ak0221e04enn      ml  34 km SE of Denali National Park, Alaska  earthquake   \n",
       "\n",
       "                status locationSource  state state_code    month  \n",
       "id                                                                \n",
       "ok2022ccvb    reviewed             ok  US-OK         OK  January  \n",
       "ak0221e05fgq  reviewed             ak  US-AK         AK  January  \n",
       "ak0221e051u3  reviewed             ak  US-AK         AK  January  \n",
       "ak0221e050xt  reviewed             ak  US-AK         AK  January  \n",
       "ak0221e04enn  reviewed             ak  US-AK         AK  January  "
      ]
     },
     "execution_count": 14,
     "metadata": {},
     "output_type": "execute_result"
    }
   ],
   "source": [
    "us_earthquakes.head()"
   ]
  },
  {
   "cell_type": "code",
   "execution_count": 15,
   "id": "0362a3bc",
   "metadata": {},
   "outputs": [
    {
     "name": "stdout",
     "output_type": "stream",
     "text": [
      "<class 'pandas.core.frame.DataFrame'>\n",
      "Index: 29357 entries, ok2022ccvb to uu60483552\n",
      "Data columns (total 12 columns):\n",
      " #   Column          Non-Null Count  Dtype              \n",
      "---  ------          --------------  -----              \n",
      " 0   time            29357 non-null  datetime64[ns, UTC]\n",
      " 1   latitude        29357 non-null  float64            \n",
      " 2   longitude       29357 non-null  float64            \n",
      " 3   mag             29357 non-null  float64            \n",
      " 4   magType         29357 non-null  object             \n",
      " 5   place           29281 non-null  object             \n",
      " 6   type            29357 non-null  object             \n",
      " 7   status          29357 non-null  object             \n",
      " 8   locationSource  29357 non-null  object             \n",
      " 9   state           29357 non-null  object             \n",
      " 10  state_code      29357 non-null  object             \n",
      " 11  month           29357 non-null  object             \n",
      "dtypes: datetime64[ns, UTC](1), float64(3), object(8)\n",
      "memory usage: 2.9+ MB\n"
     ]
    }
   ],
   "source": [
    "us_earthquakes.info()"
   ]
  },
  {
   "cell_type": "code",
   "execution_count": 16,
   "id": "d69ee1fd",
   "metadata": {},
   "outputs": [],
   "source": [
    "# Converting values to appropriate type"
   ]
  },
  {
   "cell_type": "code",
   "execution_count": 17,
   "id": "1e2c838c",
   "metadata": {},
   "outputs": [
    {
     "data": {
      "text/plain": [
       "time              29352\n",
       "latitude          21907\n",
       "longitude         23048\n",
       "mag                 578\n",
       "magType               8\n",
       "place             12011\n",
       "type                  6\n",
       "status                2\n",
       "locationSource       15\n",
       "state                36\n",
       "state_code           36\n",
       "month                 3\n",
       "dtype: int64"
      ]
     },
     "execution_count": 17,
     "metadata": {},
     "output_type": "execute_result"
    }
   ],
   "source": [
    "us_earthquakes.nunique()"
   ]
  },
  {
   "cell_type": "code",
   "execution_count": 18,
   "id": "4003d428",
   "metadata": {},
   "outputs": [],
   "source": [
    "us_earthquakes[\"magType\"] = us_earthquakes[\"magType\"].astype(\"category\")\n",
    "us_earthquakes[\"type\"] = us_earthquakes[\"type\"].astype(\"category\")\n",
    "us_earthquakes[\"status\"] = us_earthquakes[\"status\"].astype(\"category\")\n",
    "us_earthquakes[\"locationSource\"] = us_earthquakes[\"locationSource\"].astype(\"category\")\n",
    "us_earthquakes[\"state\"] = us_earthquakes[\"state\"].astype(\"category\")\n",
    "us_earthquakes[\"state_code\"] = us_earthquakes[\"state_code\"].astype(\"category\")\n",
    "us_earthquakes[\"month\"] = us_earthquakes[\"month\"].astype(\"category\")"
   ]
  },
  {
   "cell_type": "code",
   "execution_count": 19,
   "id": "7f39c70c",
   "metadata": {},
   "outputs": [
    {
     "name": "stdout",
     "output_type": "stream",
     "text": [
      "<class 'pandas.core.frame.DataFrame'>\n",
      "Index: 29357 entries, ok2022ccvb to uu60483552\n",
      "Data columns (total 12 columns):\n",
      " #   Column          Non-Null Count  Dtype              \n",
      "---  ------          --------------  -----              \n",
      " 0   time            29357 non-null  datetime64[ns, UTC]\n",
      " 1   latitude        29357 non-null  float64            \n",
      " 2   longitude       29357 non-null  float64            \n",
      " 3   mag             29357 non-null  float64            \n",
      " 4   magType         29357 non-null  category           \n",
      " 5   place           29281 non-null  object             \n",
      " 6   type            29357 non-null  category           \n",
      " 7   status          29357 non-null  category           \n",
      " 8   locationSource  29357 non-null  category           \n",
      " 9   state           29357 non-null  category           \n",
      " 10  state_code      29357 non-null  category           \n",
      " 11  month           29357 non-null  category           \n",
      "dtypes: category(7), datetime64[ns, UTC](1), float64(3), object(1)\n",
      "memory usage: 1.5+ MB\n"
     ]
    }
   ],
   "source": [
    "us_earthquakes.info()"
   ]
  },
  {
   "cell_type": "code",
   "execution_count": 23,
   "id": "f1a2b638",
   "metadata": {},
   "outputs": [
    {
     "data": {
      "text/html": [
       "<div>\n",
       "<style scoped>\n",
       "    .dataframe tbody tr th:only-of-type {\n",
       "        vertical-align: middle;\n",
       "    }\n",
       "\n",
       "    .dataframe tbody tr th {\n",
       "        vertical-align: top;\n",
       "    }\n",
       "\n",
       "    .dataframe thead th {\n",
       "        text-align: right;\n",
       "    }\n",
       "</style>\n",
       "<table border=\"1\" class=\"dataframe\">\n",
       "  <thead>\n",
       "    <tr style=\"text-align: right;\">\n",
       "      <th></th>\n",
       "      <th>time</th>\n",
       "      <th>latitude</th>\n",
       "      <th>longitude</th>\n",
       "      <th>mag</th>\n",
       "      <th>magType</th>\n",
       "      <th>place</th>\n",
       "      <th>type</th>\n",
       "      <th>status</th>\n",
       "      <th>locationSource</th>\n",
       "      <th>state</th>\n",
       "      <th>state_code</th>\n",
       "      <th>month</th>\n",
       "    </tr>\n",
       "    <tr>\n",
       "      <th>id</th>\n",
       "      <th></th>\n",
       "      <th></th>\n",
       "      <th></th>\n",
       "      <th></th>\n",
       "      <th></th>\n",
       "      <th></th>\n",
       "      <th></th>\n",
       "      <th></th>\n",
       "      <th></th>\n",
       "      <th></th>\n",
       "      <th></th>\n",
       "      <th></th>\n",
       "    </tr>\n",
       "  </thead>\n",
       "  <tbody>\n",
       "    <tr>\n",
       "      <th>ci39924879</th>\n",
       "      <td>2022-01-27 10:52:41.220000+00:00</td>\n",
       "      <td>35.039833</td>\n",
       "      <td>-118.993167</td>\n",
       "      <td>2.84</td>\n",
       "      <td>ml</td>\n",
       "      <td>12km NNW of Grapevine, CA</td>\n",
       "      <td>earthquake</td>\n",
       "      <td>reviewed</td>\n",
       "      <td>ci</td>\n",
       "      <td>US-CA</td>\n",
       "      <td>CA</td>\n",
       "      <td>January</td>\n",
       "    </tr>\n",
       "    <tr>\n",
       "      <th>ak0223b59f53</th>\n",
       "      <td>2022-03-13 04:31:26.356000+00:00</td>\n",
       "      <td>55.891800</td>\n",
       "      <td>-159.432400</td>\n",
       "      <td>1.90</td>\n",
       "      <td>ml</td>\n",
       "      <td>3 km ESE of Ivanof Bay, Alaska</td>\n",
       "      <td>earthquake</td>\n",
       "      <td>reviewed</td>\n",
       "      <td>ak</td>\n",
       "      <td>US-AK</td>\n",
       "      <td>AK</td>\n",
       "      <td>March</td>\n",
       "    </tr>\n",
       "    <tr>\n",
       "      <th>nc73681586</th>\n",
       "      <td>2022-01-21 19:21:58.610000+00:00</td>\n",
       "      <td>37.928500</td>\n",
       "      <td>-122.115500</td>\n",
       "      <td>1.58</td>\n",
       "      <td>md</td>\n",
       "      <td>5km N of Lafayette, CA</td>\n",
       "      <td>earthquake</td>\n",
       "      <td>reviewed</td>\n",
       "      <td>nc</td>\n",
       "      <td>US-CA</td>\n",
       "      <td>CA</td>\n",
       "      <td>January</td>\n",
       "    </tr>\n",
       "    <tr>\n",
       "      <th>hv72903867</th>\n",
       "      <td>2022-02-05 02:41:09.280000+00:00</td>\n",
       "      <td>19.479667</td>\n",
       "      <td>-155.644667</td>\n",
       "      <td>0.88</td>\n",
       "      <td>md</td>\n",
       "      <td>23 km E of Honaunau-Napoopoo, Hawaii</td>\n",
       "      <td>earthquake</td>\n",
       "      <td>reviewed</td>\n",
       "      <td>hv</td>\n",
       "      <td>US-HI</td>\n",
       "      <td>HI</td>\n",
       "      <td>February</td>\n",
       "    </tr>\n",
       "    <tr>\n",
       "      <th>tx2022gcnp</th>\n",
       "      <td>2022-03-28 18:23:44.444000+00:00</td>\n",
       "      <td>31.644255</td>\n",
       "      <td>-104.229956</td>\n",
       "      <td>1.80</td>\n",
       "      <td>ml</td>\n",
       "      <td>55 km NW of Toyah, Texas</td>\n",
       "      <td>earthquake</td>\n",
       "      <td>reviewed</td>\n",
       "      <td>tx</td>\n",
       "      <td>US-TX</td>\n",
       "      <td>TX</td>\n",
       "      <td>March</td>\n",
       "    </tr>\n",
       "  </tbody>\n",
       "</table>\n",
       "</div>"
      ],
      "text/plain": [
       "                                         time   latitude   longitude   mag  \\\n",
       "id                                                                           \n",
       "ci39924879   2022-01-27 10:52:41.220000+00:00  35.039833 -118.993167  2.84   \n",
       "ak0223b59f53 2022-03-13 04:31:26.356000+00:00  55.891800 -159.432400  1.90   \n",
       "nc73681586   2022-01-21 19:21:58.610000+00:00  37.928500 -122.115500  1.58   \n",
       "hv72903867   2022-02-05 02:41:09.280000+00:00  19.479667 -155.644667  0.88   \n",
       "tx2022gcnp   2022-03-28 18:23:44.444000+00:00  31.644255 -104.229956  1.80   \n",
       "\n",
       "             magType                                 place        type  \\\n",
       "id                                                                       \n",
       "ci39924879        ml             12km NNW of Grapevine, CA  earthquake   \n",
       "ak0223b59f53      ml        3 km ESE of Ivanof Bay, Alaska  earthquake   \n",
       "nc73681586        md                5km N of Lafayette, CA  earthquake   \n",
       "hv72903867        md  23 km E of Honaunau-Napoopoo, Hawaii  earthquake   \n",
       "tx2022gcnp        ml              55 km NW of Toyah, Texas  earthquake   \n",
       "\n",
       "                status locationSource  state state_code     month  \n",
       "id                                                                 \n",
       "ci39924879    reviewed             ci  US-CA         CA   January  \n",
       "ak0223b59f53  reviewed             ak  US-AK         AK     March  \n",
       "nc73681586    reviewed             nc  US-CA         CA   January  \n",
       "hv72903867    reviewed             hv  US-HI         HI  February  \n",
       "tx2022gcnp    reviewed             tx  US-TX         TX     March  "
      ]
     },
     "execution_count": 23,
     "metadata": {},
     "output_type": "execute_result"
    }
   ],
   "source": [
    "us_earthquakes.sample(5)"
   ]
  }
 ],
 "metadata": {
  "kernelspec": {
   "display_name": "Python 3 (ipykernel)",
   "language": "python",
   "name": "python3"
  },
  "language_info": {
   "codemirror_mode": {
    "name": "ipython",
    "version": 3
   },
   "file_extension": ".py",
   "mimetype": "text/x-python",
   "name": "python",
   "nbconvert_exporter": "python",
   "pygments_lexer": "ipython3",
   "version": "3.10.7"
  }
 },
 "nbformat": 4,
 "nbformat_minor": 5
}
